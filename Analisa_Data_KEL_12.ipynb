{
  "nbformat": 4,
  "nbformat_minor": 0,
  "metadata": {
    "colab": {
      "provenance": [],
      "include_colab_link": true
    },
    "kernelspec": {
      "name": "python3",
      "display_name": "Python 3"
    },
    "language_info": {
      "name": "python"
    }
  },
  "cells": [
    {
      "cell_type": "markdown",
      "metadata": {
        "id": "view-in-github",
        "colab_type": "text"
      },
      "source": [
        "<a href=\"https://colab.research.google.com/github/akbarymam/Awesome-Projects/blob/main/Analisa_Data_KEL_12.ipynb\" target=\"_parent\"><img src=\"https://colab.research.google.com/assets/colab-badge.svg\" alt=\"Open In Colab\"/></a>"
      ]
    },
    {
      "cell_type": "markdown",
      "source": [
        "### KELOMPOK 12\n",
        "1. Aflah Iram Athena - 1305213035\n",
        "2. Imam Akbar Nugraha - 1305213056\n"
      ],
      "metadata": {
        "id": "Vxdor_kAHo8j"
      }
    },
    {
      "cell_type": "markdown",
      "source": [
        "# **LIbrary**"
      ],
      "metadata": {
        "id": "kneilZVLHVlp"
      }
    },
    {
      "cell_type": "code",
      "execution_count": null,
      "metadata": {
        "id": "S8vQ83UKiP4D"
      },
      "outputs": [],
      "source": [
        "import pandas as pd\n",
        "import numpy as np\n",
        "import scipy.stats as stats\n",
        "from  numpy.linalg import inv\n",
        "from scipy.linalg import solve"
      ]
    },
    {
      "cell_type": "markdown",
      "source": [
        "#**Data**"
      ],
      "metadata": {
        "id": "WSQH05FEHcXI"
      }
    },
    {
      "cell_type": "markdown",
      "source": [
        "Membaca Data"
      ],
      "metadata": {
        "id": "pwUIka7c4qCi"
      }
    },
    {
      "cell_type": "code",
      "source": [
        "dataset = pd.read_csv(\"/content/Converted.csv\", delimiter=\";\", skipinitialspace=True)\n",
        "dataset"
      ],
      "metadata": {
        "colab": {
          "base_uri": "https://localhost:8080/",
          "height": 574
        },
        "id": "GMAffZhFiTss",
        "outputId": "8d3e8ca1-c5ae-4c90-a8f4-2445686fb7c4"
      },
      "execution_count": null,
      "outputs": [
        {
          "output_type": "execute_result",
          "data": {
            "text/plain": [
              "            Country        Area  Birth rate Current account balance   \\\n",
              "0             Japan     377,835         947      170,200,000,000.00    \n",
              "1           Germany     357,021         833       73,590,000,000.00    \n",
              "2      Saudi Arabia   1,960,582        2956       51,500,000,000.00    \n",
              "3            Russia  17,075,200          98       46,040,000,000.00    \n",
              "4       Switzerland       41,29         977       40,950,000,000.00    \n",
              "..              ...         ...         ...                      ...   \n",
              "144           Italy      301,23         889      (21,100,000,000.00)   \n",
              "145           Spain     504,782         101      (30,890,000,000.00)   \n",
              "146  United Kingdom      244,82        1078      (33,460,000,000.00)   \n",
              "147       Australia   7,686,850        1226      (38,300,000,000.00)   \n",
              "148   United States   9,631,418        1414     (646,500,000,000.00)   \n",
              "\n",
              "     Death rate Electricity consumption Electricity production   \\\n",
              "0           895         971,000,000,000   1,044,000,000,000.00    \n",
              "1          1055         519,500,000,000     560,000,000,000.00    \n",
              "2           262         128,500,000,000     138,200,000,000.00    \n",
              "3          1452         894,300,000,000     915,000,000,000.00    \n",
              "4           848          54,530,000,000      63,470,000,000.00    \n",
              "..          ...                     ...                     ...   \n",
              "144         103         293,900,000,000     261,600,000,000.00    \n",
              "145         963         218,400,000,000     229,000,000,000.00    \n",
              "146        1018         337,400,000,000     395,900,000,000.00    \n",
              "147         744         195,600,000,000     210,300,000,000.00    \n",
              "148         825       3,660,000,000,000   3,839,000,000,000.00    \n",
              "\n",
              "                 Exports                     GDP GDP per capita   ...  \\\n",
              "0    538,800,000,000.00    3,745,000,000,000.00       29,400.00   ...   \n",
              "1    893,300,000,000.00    2,362,000,000,000.00       28,700.00   ...   \n",
              "2    113,000,000,000.00      310,200,000,000.00       12,000.00   ...   \n",
              "3    162,500,000,000.00    1,408,000,000,000.00        9,800.00   ...   \n",
              "4    130,700,000,000.00      251,900,000,000.00       33,800.00   ...   \n",
              "..                   ...                     ...             ...  ...   \n",
              "144  336,400,000,000.00    1,609,000,000,000.00       27,700.00   ...   \n",
              "145  172,500,000,000.00      937,600,000,000.00       23,300.00   ...   \n",
              "146  347,200,000,000.00    1,782,000,000,000.00       29,600.00   ...   \n",
              "147   86,890,000,000.00      611,700,000,000.00       30,700.00   ...   \n",
              "148  795,000,000,000.00   11,750,000,000,000.00       40,100.00   ...   \n",
              "\n",
              "     Life expectancy at birth Military expenditures Natural gas consumption   \\\n",
              "0                        8115                 100.0       80,420,000,000.00    \n",
              "1                        7865                 150.0       99,550,000,000.00    \n",
              "2                        7546                1000.0       56,400,000,000.00    \n",
              "3                         671                   NaN      405,800,000,000.00    \n",
              "4                        8039                 100.0        3,093,000,000.00    \n",
              "..                        ...                   ...                      ...   \n",
              "144                      7968                 180.0       71,180,000,000.00    \n",
              "145                      7952                 120.0       17,960,000,000.00    \n",
              "146                      7838                 240.0       92,850,000,000.00    \n",
              "147                      8039                 270.0       23,330,000,000.00    \n",
              "148                      7771                 330.0      640,900,000,000.00    \n",
              "\n",
              "     Oil consumption    Population   Public debt  Railways  \\\n",
              "0          5,290,000   127,417,244        1643.0   23705.0   \n",
              "1          2,891,000    82,431,390         658.0   46039.0   \n",
              "2          1,550,000    26,417,599          75.0    1392.0   \n",
              "3          2,310,000   143,420,309         282.0   87157.0   \n",
              "4               290,4    7,489,370         572.0    4533.0   \n",
              "..                ...           ...          ...       ...   \n",
              "144        1,866,000    58,103,033        1056.0   19507.0   \n",
              "145        1,497,000    40,341,462         532.0   14268.0   \n",
              "146        1,692,000    60,441,457         396.0   17186.0   \n",
              "147             796,5   20,090,437         174.0   43802.0   \n",
              "148       19,650,000   295,734,134          65.0  228464.0   \n",
              "\n",
              "     Reserves of foreign exchange & gold  Total fertility rate  \\\n",
              "0                     664,600,000,000.00                   139   \n",
              "1                      96,840,000,000.00                   139   \n",
              "2                      23,620,000,000.00                   405   \n",
              "3                     124,500,000,000.00                   127   \n",
              "4                      69,580,000,000.00                   142   \n",
              "..                                    ...                  ...   \n",
              "144                    61,500,000,000.00                   128   \n",
              "145                    19,700,000,000.00                   128   \n",
              "146                    48,730,000,000.00                   166   \n",
              "147                    35,140,000,000.00                   176   \n",
              "148                    85,940,000,000.00                   208   \n",
              "\n",
              "     Unemployment rate  \n",
              "0                 47.0  \n",
              "1                106.0  \n",
              "2                 25.0  \n",
              "3                 83.0  \n",
              "4                 34.0  \n",
              "..                 ...  \n",
              "144               86.0  \n",
              "145              104.0  \n",
              "146               48.0  \n",
              "147               51.0  \n",
              "148               55.0  \n",
              "\n",
              "[149 rows x 29 columns]"
            ],
            "text/html": [
              "\n",
              "  <div id=\"df-050fce22-8790-47d0-a9d3-02de416abf52\">\n",
              "    <div class=\"colab-df-container\">\n",
              "      <div>\n",
              "<style scoped>\n",
              "    .dataframe tbody tr th:only-of-type {\n",
              "        vertical-align: middle;\n",
              "    }\n",
              "\n",
              "    .dataframe tbody tr th {\n",
              "        vertical-align: top;\n",
              "    }\n",
              "\n",
              "    .dataframe thead th {\n",
              "        text-align: right;\n",
              "    }\n",
              "</style>\n",
              "<table border=\"1\" class=\"dataframe\">\n",
              "  <thead>\n",
              "    <tr style=\"text-align: right;\">\n",
              "      <th></th>\n",
              "      <th>Country</th>\n",
              "      <th>Area</th>\n",
              "      <th>Birth rate</th>\n",
              "      <th>Current account balance</th>\n",
              "      <th>Death rate</th>\n",
              "      <th>Electricity consumption</th>\n",
              "      <th>Electricity production</th>\n",
              "      <th>Exports</th>\n",
              "      <th>GDP</th>\n",
              "      <th>GDP per capita</th>\n",
              "      <th>...</th>\n",
              "      <th>Life expectancy at birth</th>\n",
              "      <th>Military expenditures</th>\n",
              "      <th>Natural gas consumption</th>\n",
              "      <th>Oil consumption</th>\n",
              "      <th>Population</th>\n",
              "      <th>Public debt</th>\n",
              "      <th>Railways</th>\n",
              "      <th>Reserves of foreign exchange &amp; gold</th>\n",
              "      <th>Total fertility rate</th>\n",
              "      <th>Unemployment rate</th>\n",
              "    </tr>\n",
              "  </thead>\n",
              "  <tbody>\n",
              "    <tr>\n",
              "      <th>0</th>\n",
              "      <td>Japan</td>\n",
              "      <td>377,835</td>\n",
              "      <td>947</td>\n",
              "      <td>170,200,000,000.00</td>\n",
              "      <td>895</td>\n",
              "      <td>971,000,000,000</td>\n",
              "      <td>1,044,000,000,000.00</td>\n",
              "      <td>538,800,000,000.00</td>\n",
              "      <td>3,745,000,000,000.00</td>\n",
              "      <td>29,400.00</td>\n",
              "      <td>...</td>\n",
              "      <td>8115</td>\n",
              "      <td>100.0</td>\n",
              "      <td>80,420,000,000.00</td>\n",
              "      <td>5,290,000</td>\n",
              "      <td>127,417,244</td>\n",
              "      <td>1643.0</td>\n",
              "      <td>23705.0</td>\n",
              "      <td>664,600,000,000.00</td>\n",
              "      <td>139</td>\n",
              "      <td>47.0</td>\n",
              "    </tr>\n",
              "    <tr>\n",
              "      <th>1</th>\n",
              "      <td>Germany</td>\n",
              "      <td>357,021</td>\n",
              "      <td>833</td>\n",
              "      <td>73,590,000,000.00</td>\n",
              "      <td>1055</td>\n",
              "      <td>519,500,000,000</td>\n",
              "      <td>560,000,000,000.00</td>\n",
              "      <td>893,300,000,000.00</td>\n",
              "      <td>2,362,000,000,000.00</td>\n",
              "      <td>28,700.00</td>\n",
              "      <td>...</td>\n",
              "      <td>7865</td>\n",
              "      <td>150.0</td>\n",
              "      <td>99,550,000,000.00</td>\n",
              "      <td>2,891,000</td>\n",
              "      <td>82,431,390</td>\n",
              "      <td>658.0</td>\n",
              "      <td>46039.0</td>\n",
              "      <td>96,840,000,000.00</td>\n",
              "      <td>139</td>\n",
              "      <td>106.0</td>\n",
              "    </tr>\n",
              "    <tr>\n",
              "      <th>2</th>\n",
              "      <td>Saudi Arabia</td>\n",
              "      <td>1,960,582</td>\n",
              "      <td>2956</td>\n",
              "      <td>51,500,000,000.00</td>\n",
              "      <td>262</td>\n",
              "      <td>128,500,000,000</td>\n",
              "      <td>138,200,000,000.00</td>\n",
              "      <td>113,000,000,000.00</td>\n",
              "      <td>310,200,000,000.00</td>\n",
              "      <td>12,000.00</td>\n",
              "      <td>...</td>\n",
              "      <td>7546</td>\n",
              "      <td>1000.0</td>\n",
              "      <td>56,400,000,000.00</td>\n",
              "      <td>1,550,000</td>\n",
              "      <td>26,417,599</td>\n",
              "      <td>75.0</td>\n",
              "      <td>1392.0</td>\n",
              "      <td>23,620,000,000.00</td>\n",
              "      <td>405</td>\n",
              "      <td>25.0</td>\n",
              "    </tr>\n",
              "    <tr>\n",
              "      <th>3</th>\n",
              "      <td>Russia</td>\n",
              "      <td>17,075,200</td>\n",
              "      <td>98</td>\n",
              "      <td>46,040,000,000.00</td>\n",
              "      <td>1452</td>\n",
              "      <td>894,300,000,000</td>\n",
              "      <td>915,000,000,000.00</td>\n",
              "      <td>162,500,000,000.00</td>\n",
              "      <td>1,408,000,000,000.00</td>\n",
              "      <td>9,800.00</td>\n",
              "      <td>...</td>\n",
              "      <td>671</td>\n",
              "      <td>NaN</td>\n",
              "      <td>405,800,000,000.00</td>\n",
              "      <td>2,310,000</td>\n",
              "      <td>143,420,309</td>\n",
              "      <td>282.0</td>\n",
              "      <td>87157.0</td>\n",
              "      <td>124,500,000,000.00</td>\n",
              "      <td>127</td>\n",
              "      <td>83.0</td>\n",
              "    </tr>\n",
              "    <tr>\n",
              "      <th>4</th>\n",
              "      <td>Switzerland</td>\n",
              "      <td>41,29</td>\n",
              "      <td>977</td>\n",
              "      <td>40,950,000,000.00</td>\n",
              "      <td>848</td>\n",
              "      <td>54,530,000,000</td>\n",
              "      <td>63,470,000,000.00</td>\n",
              "      <td>130,700,000,000.00</td>\n",
              "      <td>251,900,000,000.00</td>\n",
              "      <td>33,800.00</td>\n",
              "      <td>...</td>\n",
              "      <td>8039</td>\n",
              "      <td>100.0</td>\n",
              "      <td>3,093,000,000.00</td>\n",
              "      <td>290,4</td>\n",
              "      <td>7,489,370</td>\n",
              "      <td>572.0</td>\n",
              "      <td>4533.0</td>\n",
              "      <td>69,580,000,000.00</td>\n",
              "      <td>142</td>\n",
              "      <td>34.0</td>\n",
              "    </tr>\n",
              "    <tr>\n",
              "      <th>...</th>\n",
              "      <td>...</td>\n",
              "      <td>...</td>\n",
              "      <td>...</td>\n",
              "      <td>...</td>\n",
              "      <td>...</td>\n",
              "      <td>...</td>\n",
              "      <td>...</td>\n",
              "      <td>...</td>\n",
              "      <td>...</td>\n",
              "      <td>...</td>\n",
              "      <td>...</td>\n",
              "      <td>...</td>\n",
              "      <td>...</td>\n",
              "      <td>...</td>\n",
              "      <td>...</td>\n",
              "      <td>...</td>\n",
              "      <td>...</td>\n",
              "      <td>...</td>\n",
              "      <td>...</td>\n",
              "      <td>...</td>\n",
              "      <td>...</td>\n",
              "    </tr>\n",
              "    <tr>\n",
              "      <th>144</th>\n",
              "      <td>Italy</td>\n",
              "      <td>301,23</td>\n",
              "      <td>889</td>\n",
              "      <td>(21,100,000,000.00)</td>\n",
              "      <td>103</td>\n",
              "      <td>293,900,000,000</td>\n",
              "      <td>261,600,000,000.00</td>\n",
              "      <td>336,400,000,000.00</td>\n",
              "      <td>1,609,000,000,000.00</td>\n",
              "      <td>27,700.00</td>\n",
              "      <td>...</td>\n",
              "      <td>7968</td>\n",
              "      <td>180.0</td>\n",
              "      <td>71,180,000,000.00</td>\n",
              "      <td>1,866,000</td>\n",
              "      <td>58,103,033</td>\n",
              "      <td>1056.0</td>\n",
              "      <td>19507.0</td>\n",
              "      <td>61,500,000,000.00</td>\n",
              "      <td>128</td>\n",
              "      <td>86.0</td>\n",
              "    </tr>\n",
              "    <tr>\n",
              "      <th>145</th>\n",
              "      <td>Spain</td>\n",
              "      <td>504,782</td>\n",
              "      <td>101</td>\n",
              "      <td>(30,890,000,000.00)</td>\n",
              "      <td>963</td>\n",
              "      <td>218,400,000,000</td>\n",
              "      <td>229,000,000,000.00</td>\n",
              "      <td>172,500,000,000.00</td>\n",
              "      <td>937,600,000,000.00</td>\n",
              "      <td>23,300.00</td>\n",
              "      <td>...</td>\n",
              "      <td>7952</td>\n",
              "      <td>120.0</td>\n",
              "      <td>17,960,000,000.00</td>\n",
              "      <td>1,497,000</td>\n",
              "      <td>40,341,462</td>\n",
              "      <td>532.0</td>\n",
              "      <td>14268.0</td>\n",
              "      <td>19,700,000,000.00</td>\n",
              "      <td>128</td>\n",
              "      <td>104.0</td>\n",
              "    </tr>\n",
              "    <tr>\n",
              "      <th>146</th>\n",
              "      <td>United Kingdom</td>\n",
              "      <td>244,82</td>\n",
              "      <td>1078</td>\n",
              "      <td>(33,460,000,000.00)</td>\n",
              "      <td>1018</td>\n",
              "      <td>337,400,000,000</td>\n",
              "      <td>395,900,000,000.00</td>\n",
              "      <td>347,200,000,000.00</td>\n",
              "      <td>1,782,000,000,000.00</td>\n",
              "      <td>29,600.00</td>\n",
              "      <td>...</td>\n",
              "      <td>7838</td>\n",
              "      <td>240.0</td>\n",
              "      <td>92,850,000,000.00</td>\n",
              "      <td>1,692,000</td>\n",
              "      <td>60,441,457</td>\n",
              "      <td>396.0</td>\n",
              "      <td>17186.0</td>\n",
              "      <td>48,730,000,000.00</td>\n",
              "      <td>166</td>\n",
              "      <td>48.0</td>\n",
              "    </tr>\n",
              "    <tr>\n",
              "      <th>147</th>\n",
              "      <td>Australia</td>\n",
              "      <td>7,686,850</td>\n",
              "      <td>1226</td>\n",
              "      <td>(38,300,000,000.00)</td>\n",
              "      <td>744</td>\n",
              "      <td>195,600,000,000</td>\n",
              "      <td>210,300,000,000.00</td>\n",
              "      <td>86,890,000,000.00</td>\n",
              "      <td>611,700,000,000.00</td>\n",
              "      <td>30,700.00</td>\n",
              "      <td>...</td>\n",
              "      <td>8039</td>\n",
              "      <td>270.0</td>\n",
              "      <td>23,330,000,000.00</td>\n",
              "      <td>796,5</td>\n",
              "      <td>20,090,437</td>\n",
              "      <td>174.0</td>\n",
              "      <td>43802.0</td>\n",
              "      <td>35,140,000,000.00</td>\n",
              "      <td>176</td>\n",
              "      <td>51.0</td>\n",
              "    </tr>\n",
              "    <tr>\n",
              "      <th>148</th>\n",
              "      <td>United States</td>\n",
              "      <td>9,631,418</td>\n",
              "      <td>1414</td>\n",
              "      <td>(646,500,000,000.00)</td>\n",
              "      <td>825</td>\n",
              "      <td>3,660,000,000,000</td>\n",
              "      <td>3,839,000,000,000.00</td>\n",
              "      <td>795,000,000,000.00</td>\n",
              "      <td>11,750,000,000,000.00</td>\n",
              "      <td>40,100.00</td>\n",
              "      <td>...</td>\n",
              "      <td>7771</td>\n",
              "      <td>330.0</td>\n",
              "      <td>640,900,000,000.00</td>\n",
              "      <td>19,650,000</td>\n",
              "      <td>295,734,134</td>\n",
              "      <td>65.0</td>\n",
              "      <td>228464.0</td>\n",
              "      <td>85,940,000,000.00</td>\n",
              "      <td>208</td>\n",
              "      <td>55.0</td>\n",
              "    </tr>\n",
              "  </tbody>\n",
              "</table>\n",
              "<p>149 rows × 29 columns</p>\n",
              "</div>\n",
              "      <button class=\"colab-df-convert\" onclick=\"convertToInteractive('df-050fce22-8790-47d0-a9d3-02de416abf52')\"\n",
              "              title=\"Convert this dataframe to an interactive table.\"\n",
              "              style=\"display:none;\">\n",
              "        \n",
              "  <svg xmlns=\"http://www.w3.org/2000/svg\" height=\"24px\"viewBox=\"0 0 24 24\"\n",
              "       width=\"24px\">\n",
              "    <path d=\"M0 0h24v24H0V0z\" fill=\"none\"/>\n",
              "    <path d=\"M18.56 5.44l.94 2.06.94-2.06 2.06-.94-2.06-.94-.94-2.06-.94 2.06-2.06.94zm-11 1L8.5 8.5l.94-2.06 2.06-.94-2.06-.94L8.5 2.5l-.94 2.06-2.06.94zm10 10l.94 2.06.94-2.06 2.06-.94-2.06-.94-.94-2.06-.94 2.06-2.06.94z\"/><path d=\"M17.41 7.96l-1.37-1.37c-.4-.4-.92-.59-1.43-.59-.52 0-1.04.2-1.43.59L10.3 9.45l-7.72 7.72c-.78.78-.78 2.05 0 2.83L4 21.41c.39.39.9.59 1.41.59.51 0 1.02-.2 1.41-.59l7.78-7.78 2.81-2.81c.8-.78.8-2.07 0-2.86zM5.41 20L4 18.59l7.72-7.72 1.47 1.35L5.41 20z\"/>\n",
              "  </svg>\n",
              "      </button>\n",
              "      \n",
              "  <style>\n",
              "    .colab-df-container {\n",
              "      display:flex;\n",
              "      flex-wrap:wrap;\n",
              "      gap: 12px;\n",
              "    }\n",
              "\n",
              "    .colab-df-convert {\n",
              "      background-color: #E8F0FE;\n",
              "      border: none;\n",
              "      border-radius: 50%;\n",
              "      cursor: pointer;\n",
              "      display: none;\n",
              "      fill: #1967D2;\n",
              "      height: 32px;\n",
              "      padding: 0 0 0 0;\n",
              "      width: 32px;\n",
              "    }\n",
              "\n",
              "    .colab-df-convert:hover {\n",
              "      background-color: #E2EBFA;\n",
              "      box-shadow: 0px 1px 2px rgba(60, 64, 67, 0.3), 0px 1px 3px 1px rgba(60, 64, 67, 0.15);\n",
              "      fill: #174EA6;\n",
              "    }\n",
              "\n",
              "    [theme=dark] .colab-df-convert {\n",
              "      background-color: #3B4455;\n",
              "      fill: #D2E3FC;\n",
              "    }\n",
              "\n",
              "    [theme=dark] .colab-df-convert:hover {\n",
              "      background-color: #434B5C;\n",
              "      box-shadow: 0px 1px 3px 1px rgba(0, 0, 0, 0.15);\n",
              "      filter: drop-shadow(0px 1px 2px rgba(0, 0, 0, 0.3));\n",
              "      fill: #FFFFFF;\n",
              "    }\n",
              "  </style>\n",
              "\n",
              "      <script>\n",
              "        const buttonEl =\n",
              "          document.querySelector('#df-050fce22-8790-47d0-a9d3-02de416abf52 button.colab-df-convert');\n",
              "        buttonEl.style.display =\n",
              "          google.colab.kernel.accessAllowed ? 'block' : 'none';\n",
              "\n",
              "        async function convertToInteractive(key) {\n",
              "          const element = document.querySelector('#df-050fce22-8790-47d0-a9d3-02de416abf52');\n",
              "          const dataTable =\n",
              "            await google.colab.kernel.invokeFunction('convertToInteractive',\n",
              "                                                     [key], {});\n",
              "          if (!dataTable) return;\n",
              "\n",
              "          const docLinkHtml = 'Like what you see? Visit the ' +\n",
              "            '<a target=\"_blank\" href=https://colab.research.google.com/notebooks/data_table.ipynb>data table notebook</a>'\n",
              "            + ' to learn more about interactive tables.';\n",
              "          element.innerHTML = '';\n",
              "          dataTable['output_type'] = 'display_data';\n",
              "          await google.colab.output.renderOutput(dataTable, element);\n",
              "          const docLink = document.createElement('div');\n",
              "          docLink.innerHTML = docLinkHtml;\n",
              "          element.appendChild(docLink);\n",
              "        }\n",
              "      </script>\n",
              "    </div>\n",
              "  </div>\n",
              "  "
            ]
          },
          "metadata": {},
          "execution_count": 2
        }
      ]
    },
    {
      "cell_type": "markdown",
      "source": [
        "Memilih Kolom yang akan dianalisis"
      ],
      "metadata": {
        "id": "91gf4CaD4w9a"
      }
    },
    {
      "cell_type": "code",
      "source": [
        "data_dipake = [\"GDP\", \"Exports\", \"Imports\", \"Industrial production growth rate\", \"Investment\", \"Unemployment rate\"]\n",
        "df = dataset[data_dipake]\n",
        "df"
      ],
      "metadata": {
        "colab": {
          "base_uri": "https://localhost:8080/",
          "height": 423
        },
        "id": "i5zU8ArtiVoY",
        "outputId": "1b395570-0c05-454e-941e-31b5f9b9ff86"
      },
      "execution_count": null,
      "outputs": [
        {
          "output_type": "execute_result",
          "data": {
            "text/plain": [
              "                        GDP              Exports                Imports  \\\n",
              "0     3,745,000,000,000.00   538,800,000,000.00     401,800,000,000.00    \n",
              "1     2,362,000,000,000.00   893,300,000,000.00     716,700,000,000.00    \n",
              "2       310,200,000,000.00   113,000,000,000.00      36,210,000,000.00    \n",
              "3     1,408,000,000,000.00   162,500,000,000.00      92,910,000,000.00    \n",
              "4       251,900,000,000.00   130,700,000,000.00     121,100,000,000.00    \n",
              "..                      ...                  ...                    ...   \n",
              "144   1,609,000,000,000.00   336,400,000,000.00     329,300,000,000.00    \n",
              "145     937,600,000,000.00   172,500,000,000.00     222,000,000,000.00    \n",
              "146   1,782,000,000,000.00   347,200,000,000.00     439,400,000,000.00    \n",
              "147     611,700,000,000.00    86,890,000,000.00      98,100,000,000.00    \n",
              "148  11,750,000,000,000.00   795,000,000,000.00   1,476,000,000,000.00    \n",
              "\n",
              "     Industrial production growth rate  Investment  Unemployment rate  \n",
              "0                                 66.0        24.0               47.0  \n",
              "1                                 22.0       176.0              106.0  \n",
              "2                                 28.0       172.0               25.0  \n",
              "3                                 64.0       191.0               83.0  \n",
              "4                                 47.0       204.0               34.0  \n",
              "..                                 ...         ...                ...  \n",
              "144                                7.0       193.0               86.0  \n",
              "145                                3.0       254.0              104.0  \n",
              "146                                9.0       162.0               48.0  \n",
              "147                               19.0       253.0               51.0  \n",
              "148                               44.0       157.0               55.0  \n",
              "\n",
              "[149 rows x 6 columns]"
            ],
            "text/html": [
              "\n",
              "  <div id=\"df-3c5feac1-f4ef-497e-900b-8ed419fe9084\">\n",
              "    <div class=\"colab-df-container\">\n",
              "      <div>\n",
              "<style scoped>\n",
              "    .dataframe tbody tr th:only-of-type {\n",
              "        vertical-align: middle;\n",
              "    }\n",
              "\n",
              "    .dataframe tbody tr th {\n",
              "        vertical-align: top;\n",
              "    }\n",
              "\n",
              "    .dataframe thead th {\n",
              "        text-align: right;\n",
              "    }\n",
              "</style>\n",
              "<table border=\"1\" class=\"dataframe\">\n",
              "  <thead>\n",
              "    <tr style=\"text-align: right;\">\n",
              "      <th></th>\n",
              "      <th>GDP</th>\n",
              "      <th>Exports</th>\n",
              "      <th>Imports</th>\n",
              "      <th>Industrial production growth rate</th>\n",
              "      <th>Investment</th>\n",
              "      <th>Unemployment rate</th>\n",
              "    </tr>\n",
              "  </thead>\n",
              "  <tbody>\n",
              "    <tr>\n",
              "      <th>0</th>\n",
              "      <td>3,745,000,000,000.00</td>\n",
              "      <td>538,800,000,000.00</td>\n",
              "      <td>401,800,000,000.00</td>\n",
              "      <td>66.0</td>\n",
              "      <td>24.0</td>\n",
              "      <td>47.0</td>\n",
              "    </tr>\n",
              "    <tr>\n",
              "      <th>1</th>\n",
              "      <td>2,362,000,000,000.00</td>\n",
              "      <td>893,300,000,000.00</td>\n",
              "      <td>716,700,000,000.00</td>\n",
              "      <td>22.0</td>\n",
              "      <td>176.0</td>\n",
              "      <td>106.0</td>\n",
              "    </tr>\n",
              "    <tr>\n",
              "      <th>2</th>\n",
              "      <td>310,200,000,000.00</td>\n",
              "      <td>113,000,000,000.00</td>\n",
              "      <td>36,210,000,000.00</td>\n",
              "      <td>28.0</td>\n",
              "      <td>172.0</td>\n",
              "      <td>25.0</td>\n",
              "    </tr>\n",
              "    <tr>\n",
              "      <th>3</th>\n",
              "      <td>1,408,000,000,000.00</td>\n",
              "      <td>162,500,000,000.00</td>\n",
              "      <td>92,910,000,000.00</td>\n",
              "      <td>64.0</td>\n",
              "      <td>191.0</td>\n",
              "      <td>83.0</td>\n",
              "    </tr>\n",
              "    <tr>\n",
              "      <th>4</th>\n",
              "      <td>251,900,000,000.00</td>\n",
              "      <td>130,700,000,000.00</td>\n",
              "      <td>121,100,000,000.00</td>\n",
              "      <td>47.0</td>\n",
              "      <td>204.0</td>\n",
              "      <td>34.0</td>\n",
              "    </tr>\n",
              "    <tr>\n",
              "      <th>...</th>\n",
              "      <td>...</td>\n",
              "      <td>...</td>\n",
              "      <td>...</td>\n",
              "      <td>...</td>\n",
              "      <td>...</td>\n",
              "      <td>...</td>\n",
              "    </tr>\n",
              "    <tr>\n",
              "      <th>144</th>\n",
              "      <td>1,609,000,000,000.00</td>\n",
              "      <td>336,400,000,000.00</td>\n",
              "      <td>329,300,000,000.00</td>\n",
              "      <td>7.0</td>\n",
              "      <td>193.0</td>\n",
              "      <td>86.0</td>\n",
              "    </tr>\n",
              "    <tr>\n",
              "      <th>145</th>\n",
              "      <td>937,600,000,000.00</td>\n",
              "      <td>172,500,000,000.00</td>\n",
              "      <td>222,000,000,000.00</td>\n",
              "      <td>3.0</td>\n",
              "      <td>254.0</td>\n",
              "      <td>104.0</td>\n",
              "    </tr>\n",
              "    <tr>\n",
              "      <th>146</th>\n",
              "      <td>1,782,000,000,000.00</td>\n",
              "      <td>347,200,000,000.00</td>\n",
              "      <td>439,400,000,000.00</td>\n",
              "      <td>9.0</td>\n",
              "      <td>162.0</td>\n",
              "      <td>48.0</td>\n",
              "    </tr>\n",
              "    <tr>\n",
              "      <th>147</th>\n",
              "      <td>611,700,000,000.00</td>\n",
              "      <td>86,890,000,000.00</td>\n",
              "      <td>98,100,000,000.00</td>\n",
              "      <td>19.0</td>\n",
              "      <td>253.0</td>\n",
              "      <td>51.0</td>\n",
              "    </tr>\n",
              "    <tr>\n",
              "      <th>148</th>\n",
              "      <td>11,750,000,000,000.00</td>\n",
              "      <td>795,000,000,000.00</td>\n",
              "      <td>1,476,000,000,000.00</td>\n",
              "      <td>44.0</td>\n",
              "      <td>157.0</td>\n",
              "      <td>55.0</td>\n",
              "    </tr>\n",
              "  </tbody>\n",
              "</table>\n",
              "<p>149 rows × 6 columns</p>\n",
              "</div>\n",
              "      <button class=\"colab-df-convert\" onclick=\"convertToInteractive('df-3c5feac1-f4ef-497e-900b-8ed419fe9084')\"\n",
              "              title=\"Convert this dataframe to an interactive table.\"\n",
              "              style=\"display:none;\">\n",
              "        \n",
              "  <svg xmlns=\"http://www.w3.org/2000/svg\" height=\"24px\"viewBox=\"0 0 24 24\"\n",
              "       width=\"24px\">\n",
              "    <path d=\"M0 0h24v24H0V0z\" fill=\"none\"/>\n",
              "    <path d=\"M18.56 5.44l.94 2.06.94-2.06 2.06-.94-2.06-.94-.94-2.06-.94 2.06-2.06.94zm-11 1L8.5 8.5l.94-2.06 2.06-.94-2.06-.94L8.5 2.5l-.94 2.06-2.06.94zm10 10l.94 2.06.94-2.06 2.06-.94-2.06-.94-.94-2.06-.94 2.06-2.06.94z\"/><path d=\"M17.41 7.96l-1.37-1.37c-.4-.4-.92-.59-1.43-.59-.52 0-1.04.2-1.43.59L10.3 9.45l-7.72 7.72c-.78.78-.78 2.05 0 2.83L4 21.41c.39.39.9.59 1.41.59.51 0 1.02-.2 1.41-.59l7.78-7.78 2.81-2.81c.8-.78.8-2.07 0-2.86zM5.41 20L4 18.59l7.72-7.72 1.47 1.35L5.41 20z\"/>\n",
              "  </svg>\n",
              "      </button>\n",
              "      \n",
              "  <style>\n",
              "    .colab-df-container {\n",
              "      display:flex;\n",
              "      flex-wrap:wrap;\n",
              "      gap: 12px;\n",
              "    }\n",
              "\n",
              "    .colab-df-convert {\n",
              "      background-color: #E8F0FE;\n",
              "      border: none;\n",
              "      border-radius: 50%;\n",
              "      cursor: pointer;\n",
              "      display: none;\n",
              "      fill: #1967D2;\n",
              "      height: 32px;\n",
              "      padding: 0 0 0 0;\n",
              "      width: 32px;\n",
              "    }\n",
              "\n",
              "    .colab-df-convert:hover {\n",
              "      background-color: #E2EBFA;\n",
              "      box-shadow: 0px 1px 2px rgba(60, 64, 67, 0.3), 0px 1px 3px 1px rgba(60, 64, 67, 0.15);\n",
              "      fill: #174EA6;\n",
              "    }\n",
              "\n",
              "    [theme=dark] .colab-df-convert {\n",
              "      background-color: #3B4455;\n",
              "      fill: #D2E3FC;\n",
              "    }\n",
              "\n",
              "    [theme=dark] .colab-df-convert:hover {\n",
              "      background-color: #434B5C;\n",
              "      box-shadow: 0px 1px 3px 1px rgba(0, 0, 0, 0.15);\n",
              "      filter: drop-shadow(0px 1px 2px rgba(0, 0, 0, 0.3));\n",
              "      fill: #FFFFFF;\n",
              "    }\n",
              "  </style>\n",
              "\n",
              "      <script>\n",
              "        const buttonEl =\n",
              "          document.querySelector('#df-3c5feac1-f4ef-497e-900b-8ed419fe9084 button.colab-df-convert');\n",
              "        buttonEl.style.display =\n",
              "          google.colab.kernel.accessAllowed ? 'block' : 'none';\n",
              "\n",
              "        async function convertToInteractive(key) {\n",
              "          const element = document.querySelector('#df-3c5feac1-f4ef-497e-900b-8ed419fe9084');\n",
              "          const dataTable =\n",
              "            await google.colab.kernel.invokeFunction('convertToInteractive',\n",
              "                                                     [key], {});\n",
              "          if (!dataTable) return;\n",
              "\n",
              "          const docLinkHtml = 'Like what you see? Visit the ' +\n",
              "            '<a target=\"_blank\" href=https://colab.research.google.com/notebooks/data_table.ipynb>data table notebook</a>'\n",
              "            + ' to learn more about interactive tables.';\n",
              "          element.innerHTML = '';\n",
              "          dataTable['output_type'] = 'display_data';\n",
              "          await google.colab.output.renderOutput(dataTable, element);\n",
              "          const docLink = document.createElement('div');\n",
              "          docLink.innerHTML = docLinkHtml;\n",
              "          element.appendChild(docLink);\n",
              "        }\n",
              "      </script>\n",
              "    </div>\n",
              "  </div>\n",
              "  "
            ]
          },
          "metadata": {},
          "execution_count": 3
        }
      ]
    },
    {
      "cell_type": "markdown",
      "source": [
        "Mengganti Nama Kolom dengan variabel regresi"
      ],
      "metadata": {
        "id": "eGOnygCF43YD"
      }
    },
    {
      "cell_type": "code",
      "source": [
        "df = df.rename(columns = {'GDP':'Y','Exports':'X1','Imports':'X2','Industrial production growth rate':'X3','Investment':'X4','Unemployment rate':'X5'})\n",
        "df"
      ],
      "metadata": {
        "id": "L2hsFB33kgCS",
        "colab": {
          "base_uri": "https://localhost:8080/",
          "height": 423
        },
        "outputId": "994df8ad-1f0e-4bdf-bba5-4cc25e929187"
      },
      "execution_count": null,
      "outputs": [
        {
          "output_type": "execute_result",
          "data": {
            "text/plain": [
              "                          Y                   X1                     X2    X3  \\\n",
              "0     3,745,000,000,000.00   538,800,000,000.00     401,800,000,000.00   66.0   \n",
              "1     2,362,000,000,000.00   893,300,000,000.00     716,700,000,000.00   22.0   \n",
              "2       310,200,000,000.00   113,000,000,000.00      36,210,000,000.00   28.0   \n",
              "3     1,408,000,000,000.00   162,500,000,000.00      92,910,000,000.00   64.0   \n",
              "4       251,900,000,000.00   130,700,000,000.00     121,100,000,000.00   47.0   \n",
              "..                      ...                  ...                    ...   ...   \n",
              "144   1,609,000,000,000.00   336,400,000,000.00     329,300,000,000.00    7.0   \n",
              "145     937,600,000,000.00   172,500,000,000.00     222,000,000,000.00    3.0   \n",
              "146   1,782,000,000,000.00   347,200,000,000.00     439,400,000,000.00    9.0   \n",
              "147     611,700,000,000.00    86,890,000,000.00      98,100,000,000.00   19.0   \n",
              "148  11,750,000,000,000.00   795,000,000,000.00   1,476,000,000,000.00   44.0   \n",
              "\n",
              "        X4     X5  \n",
              "0     24.0   47.0  \n",
              "1    176.0  106.0  \n",
              "2    172.0   25.0  \n",
              "3    191.0   83.0  \n",
              "4    204.0   34.0  \n",
              "..     ...    ...  \n",
              "144  193.0   86.0  \n",
              "145  254.0  104.0  \n",
              "146  162.0   48.0  \n",
              "147  253.0   51.0  \n",
              "148  157.0   55.0  \n",
              "\n",
              "[149 rows x 6 columns]"
            ],
            "text/html": [
              "\n",
              "  <div id=\"df-627b87d7-4dd1-4f3d-9c82-5b28b77e7c0c\">\n",
              "    <div class=\"colab-df-container\">\n",
              "      <div>\n",
              "<style scoped>\n",
              "    .dataframe tbody tr th:only-of-type {\n",
              "        vertical-align: middle;\n",
              "    }\n",
              "\n",
              "    .dataframe tbody tr th {\n",
              "        vertical-align: top;\n",
              "    }\n",
              "\n",
              "    .dataframe thead th {\n",
              "        text-align: right;\n",
              "    }\n",
              "</style>\n",
              "<table border=\"1\" class=\"dataframe\">\n",
              "  <thead>\n",
              "    <tr style=\"text-align: right;\">\n",
              "      <th></th>\n",
              "      <th>Y</th>\n",
              "      <th>X1</th>\n",
              "      <th>X2</th>\n",
              "      <th>X3</th>\n",
              "      <th>X4</th>\n",
              "      <th>X5</th>\n",
              "    </tr>\n",
              "  </thead>\n",
              "  <tbody>\n",
              "    <tr>\n",
              "      <th>0</th>\n",
              "      <td>3,745,000,000,000.00</td>\n",
              "      <td>538,800,000,000.00</td>\n",
              "      <td>401,800,000,000.00</td>\n",
              "      <td>66.0</td>\n",
              "      <td>24.0</td>\n",
              "      <td>47.0</td>\n",
              "    </tr>\n",
              "    <tr>\n",
              "      <th>1</th>\n",
              "      <td>2,362,000,000,000.00</td>\n",
              "      <td>893,300,000,000.00</td>\n",
              "      <td>716,700,000,000.00</td>\n",
              "      <td>22.0</td>\n",
              "      <td>176.0</td>\n",
              "      <td>106.0</td>\n",
              "    </tr>\n",
              "    <tr>\n",
              "      <th>2</th>\n",
              "      <td>310,200,000,000.00</td>\n",
              "      <td>113,000,000,000.00</td>\n",
              "      <td>36,210,000,000.00</td>\n",
              "      <td>28.0</td>\n",
              "      <td>172.0</td>\n",
              "      <td>25.0</td>\n",
              "    </tr>\n",
              "    <tr>\n",
              "      <th>3</th>\n",
              "      <td>1,408,000,000,000.00</td>\n",
              "      <td>162,500,000,000.00</td>\n",
              "      <td>92,910,000,000.00</td>\n",
              "      <td>64.0</td>\n",
              "      <td>191.0</td>\n",
              "      <td>83.0</td>\n",
              "    </tr>\n",
              "    <tr>\n",
              "      <th>4</th>\n",
              "      <td>251,900,000,000.00</td>\n",
              "      <td>130,700,000,000.00</td>\n",
              "      <td>121,100,000,000.00</td>\n",
              "      <td>47.0</td>\n",
              "      <td>204.0</td>\n",
              "      <td>34.0</td>\n",
              "    </tr>\n",
              "    <tr>\n",
              "      <th>...</th>\n",
              "      <td>...</td>\n",
              "      <td>...</td>\n",
              "      <td>...</td>\n",
              "      <td>...</td>\n",
              "      <td>...</td>\n",
              "      <td>...</td>\n",
              "    </tr>\n",
              "    <tr>\n",
              "      <th>144</th>\n",
              "      <td>1,609,000,000,000.00</td>\n",
              "      <td>336,400,000,000.00</td>\n",
              "      <td>329,300,000,000.00</td>\n",
              "      <td>7.0</td>\n",
              "      <td>193.0</td>\n",
              "      <td>86.0</td>\n",
              "    </tr>\n",
              "    <tr>\n",
              "      <th>145</th>\n",
              "      <td>937,600,000,000.00</td>\n",
              "      <td>172,500,000,000.00</td>\n",
              "      <td>222,000,000,000.00</td>\n",
              "      <td>3.0</td>\n",
              "      <td>254.0</td>\n",
              "      <td>104.0</td>\n",
              "    </tr>\n",
              "    <tr>\n",
              "      <th>146</th>\n",
              "      <td>1,782,000,000,000.00</td>\n",
              "      <td>347,200,000,000.00</td>\n",
              "      <td>439,400,000,000.00</td>\n",
              "      <td>9.0</td>\n",
              "      <td>162.0</td>\n",
              "      <td>48.0</td>\n",
              "    </tr>\n",
              "    <tr>\n",
              "      <th>147</th>\n",
              "      <td>611,700,000,000.00</td>\n",
              "      <td>86,890,000,000.00</td>\n",
              "      <td>98,100,000,000.00</td>\n",
              "      <td>19.0</td>\n",
              "      <td>253.0</td>\n",
              "      <td>51.0</td>\n",
              "    </tr>\n",
              "    <tr>\n",
              "      <th>148</th>\n",
              "      <td>11,750,000,000,000.00</td>\n",
              "      <td>795,000,000,000.00</td>\n",
              "      <td>1,476,000,000,000.00</td>\n",
              "      <td>44.0</td>\n",
              "      <td>157.0</td>\n",
              "      <td>55.0</td>\n",
              "    </tr>\n",
              "  </tbody>\n",
              "</table>\n",
              "<p>149 rows × 6 columns</p>\n",
              "</div>\n",
              "      <button class=\"colab-df-convert\" onclick=\"convertToInteractive('df-627b87d7-4dd1-4f3d-9c82-5b28b77e7c0c')\"\n",
              "              title=\"Convert this dataframe to an interactive table.\"\n",
              "              style=\"display:none;\">\n",
              "        \n",
              "  <svg xmlns=\"http://www.w3.org/2000/svg\" height=\"24px\"viewBox=\"0 0 24 24\"\n",
              "       width=\"24px\">\n",
              "    <path d=\"M0 0h24v24H0V0z\" fill=\"none\"/>\n",
              "    <path d=\"M18.56 5.44l.94 2.06.94-2.06 2.06-.94-2.06-.94-.94-2.06-.94 2.06-2.06.94zm-11 1L8.5 8.5l.94-2.06 2.06-.94-2.06-.94L8.5 2.5l-.94 2.06-2.06.94zm10 10l.94 2.06.94-2.06 2.06-.94-2.06-.94-.94-2.06-.94 2.06-2.06.94z\"/><path d=\"M17.41 7.96l-1.37-1.37c-.4-.4-.92-.59-1.43-.59-.52 0-1.04.2-1.43.59L10.3 9.45l-7.72 7.72c-.78.78-.78 2.05 0 2.83L4 21.41c.39.39.9.59 1.41.59.51 0 1.02-.2 1.41-.59l7.78-7.78 2.81-2.81c.8-.78.8-2.07 0-2.86zM5.41 20L4 18.59l7.72-7.72 1.47 1.35L5.41 20z\"/>\n",
              "  </svg>\n",
              "      </button>\n",
              "      \n",
              "  <style>\n",
              "    .colab-df-container {\n",
              "      display:flex;\n",
              "      flex-wrap:wrap;\n",
              "      gap: 12px;\n",
              "    }\n",
              "\n",
              "    .colab-df-convert {\n",
              "      background-color: #E8F0FE;\n",
              "      border: none;\n",
              "      border-radius: 50%;\n",
              "      cursor: pointer;\n",
              "      display: none;\n",
              "      fill: #1967D2;\n",
              "      height: 32px;\n",
              "      padding: 0 0 0 0;\n",
              "      width: 32px;\n",
              "    }\n",
              "\n",
              "    .colab-df-convert:hover {\n",
              "      background-color: #E2EBFA;\n",
              "      box-shadow: 0px 1px 2px rgba(60, 64, 67, 0.3), 0px 1px 3px 1px rgba(60, 64, 67, 0.15);\n",
              "      fill: #174EA6;\n",
              "    }\n",
              "\n",
              "    [theme=dark] .colab-df-convert {\n",
              "      background-color: #3B4455;\n",
              "      fill: #D2E3FC;\n",
              "    }\n",
              "\n",
              "    [theme=dark] .colab-df-convert:hover {\n",
              "      background-color: #434B5C;\n",
              "      box-shadow: 0px 1px 3px 1px rgba(0, 0, 0, 0.15);\n",
              "      filter: drop-shadow(0px 1px 2px rgba(0, 0, 0, 0.3));\n",
              "      fill: #FFFFFF;\n",
              "    }\n",
              "  </style>\n",
              "\n",
              "      <script>\n",
              "        const buttonEl =\n",
              "          document.querySelector('#df-627b87d7-4dd1-4f3d-9c82-5b28b77e7c0c button.colab-df-convert');\n",
              "        buttonEl.style.display =\n",
              "          google.colab.kernel.accessAllowed ? 'block' : 'none';\n",
              "\n",
              "        async function convertToInteractive(key) {\n",
              "          const element = document.querySelector('#df-627b87d7-4dd1-4f3d-9c82-5b28b77e7c0c');\n",
              "          const dataTable =\n",
              "            await google.colab.kernel.invokeFunction('convertToInteractive',\n",
              "                                                     [key], {});\n",
              "          if (!dataTable) return;\n",
              "\n",
              "          const docLinkHtml = 'Like what you see? Visit the ' +\n",
              "            '<a target=\"_blank\" href=https://colab.research.google.com/notebooks/data_table.ipynb>data table notebook</a>'\n",
              "            + ' to learn more about interactive tables.';\n",
              "          element.innerHTML = '';\n",
              "          dataTable['output_type'] = 'display_data';\n",
              "          await google.colab.output.renderOutput(dataTable, element);\n",
              "          const docLink = document.createElement('div');\n",
              "          docLink.innerHTML = docLinkHtml;\n",
              "          element.appendChild(docLink);\n",
              "        }\n",
              "      </script>\n",
              "    </div>\n",
              "  </div>\n",
              "  "
            ]
          },
          "metadata": {},
          "execution_count": 4
        }
      ]
    },
    {
      "cell_type": "markdown",
      "source": [
        "Konversi Kolom menjadi numerik"
      ],
      "metadata": {
        "id": "WpNPS_Db4-Y9"
      }
    },
    {
      "cell_type": "code",
      "source": [
        "for col in df.columns:\n",
        "    if df[col].dtype == \"object\":\n",
        "        df[col] = df[col].str.replace(\",\", \"\").astype(float)\n",
        "\n",
        "df"
      ],
      "metadata": {
        "colab": {
          "base_uri": "https://localhost:8080/",
          "height": 423
        },
        "id": "ZOf-9FwViXcp",
        "outputId": "ac48e953-1781-4073-df86-32ef8ba7daa5"
      },
      "execution_count": null,
      "outputs": [
        {
          "output_type": "execute_result",
          "data": {
            "text/plain": [
              "                Y            X1            X2    X3     X4     X5\n",
              "0    3.745000e+12  5.388000e+11  4.018000e+11  66.0   24.0   47.0\n",
              "1    2.362000e+12  8.933000e+11  7.167000e+11  22.0  176.0  106.0\n",
              "2    3.102000e+11  1.130000e+11  3.621000e+10  28.0  172.0   25.0\n",
              "3    1.408000e+12  1.625000e+11  9.291000e+10  64.0  191.0   83.0\n",
              "4    2.519000e+11  1.307000e+11  1.211000e+11  47.0  204.0   34.0\n",
              "..            ...           ...           ...   ...    ...    ...\n",
              "144  1.609000e+12  3.364000e+11  3.293000e+11   7.0  193.0   86.0\n",
              "145  9.376000e+11  1.725000e+11  2.220000e+11   3.0  254.0  104.0\n",
              "146  1.782000e+12  3.472000e+11  4.394000e+11   9.0  162.0   48.0\n",
              "147  6.117000e+11  8.689000e+10  9.810000e+10  19.0  253.0   51.0\n",
              "148  1.175000e+13  7.950000e+11  1.476000e+12  44.0  157.0   55.0\n",
              "\n",
              "[149 rows x 6 columns]"
            ],
            "text/html": [
              "\n",
              "  <div id=\"df-9eb5797a-fac8-4f9f-8f78-e4306d86e1bc\">\n",
              "    <div class=\"colab-df-container\">\n",
              "      <div>\n",
              "<style scoped>\n",
              "    .dataframe tbody tr th:only-of-type {\n",
              "        vertical-align: middle;\n",
              "    }\n",
              "\n",
              "    .dataframe tbody tr th {\n",
              "        vertical-align: top;\n",
              "    }\n",
              "\n",
              "    .dataframe thead th {\n",
              "        text-align: right;\n",
              "    }\n",
              "</style>\n",
              "<table border=\"1\" class=\"dataframe\">\n",
              "  <thead>\n",
              "    <tr style=\"text-align: right;\">\n",
              "      <th></th>\n",
              "      <th>Y</th>\n",
              "      <th>X1</th>\n",
              "      <th>X2</th>\n",
              "      <th>X3</th>\n",
              "      <th>X4</th>\n",
              "      <th>X5</th>\n",
              "    </tr>\n",
              "  </thead>\n",
              "  <tbody>\n",
              "    <tr>\n",
              "      <th>0</th>\n",
              "      <td>3.745000e+12</td>\n",
              "      <td>5.388000e+11</td>\n",
              "      <td>4.018000e+11</td>\n",
              "      <td>66.0</td>\n",
              "      <td>24.0</td>\n",
              "      <td>47.0</td>\n",
              "    </tr>\n",
              "    <tr>\n",
              "      <th>1</th>\n",
              "      <td>2.362000e+12</td>\n",
              "      <td>8.933000e+11</td>\n",
              "      <td>7.167000e+11</td>\n",
              "      <td>22.0</td>\n",
              "      <td>176.0</td>\n",
              "      <td>106.0</td>\n",
              "    </tr>\n",
              "    <tr>\n",
              "      <th>2</th>\n",
              "      <td>3.102000e+11</td>\n",
              "      <td>1.130000e+11</td>\n",
              "      <td>3.621000e+10</td>\n",
              "      <td>28.0</td>\n",
              "      <td>172.0</td>\n",
              "      <td>25.0</td>\n",
              "    </tr>\n",
              "    <tr>\n",
              "      <th>3</th>\n",
              "      <td>1.408000e+12</td>\n",
              "      <td>1.625000e+11</td>\n",
              "      <td>9.291000e+10</td>\n",
              "      <td>64.0</td>\n",
              "      <td>191.0</td>\n",
              "      <td>83.0</td>\n",
              "    </tr>\n",
              "    <tr>\n",
              "      <th>4</th>\n",
              "      <td>2.519000e+11</td>\n",
              "      <td>1.307000e+11</td>\n",
              "      <td>1.211000e+11</td>\n",
              "      <td>47.0</td>\n",
              "      <td>204.0</td>\n",
              "      <td>34.0</td>\n",
              "    </tr>\n",
              "    <tr>\n",
              "      <th>...</th>\n",
              "      <td>...</td>\n",
              "      <td>...</td>\n",
              "      <td>...</td>\n",
              "      <td>...</td>\n",
              "      <td>...</td>\n",
              "      <td>...</td>\n",
              "    </tr>\n",
              "    <tr>\n",
              "      <th>144</th>\n",
              "      <td>1.609000e+12</td>\n",
              "      <td>3.364000e+11</td>\n",
              "      <td>3.293000e+11</td>\n",
              "      <td>7.0</td>\n",
              "      <td>193.0</td>\n",
              "      <td>86.0</td>\n",
              "    </tr>\n",
              "    <tr>\n",
              "      <th>145</th>\n",
              "      <td>9.376000e+11</td>\n",
              "      <td>1.725000e+11</td>\n",
              "      <td>2.220000e+11</td>\n",
              "      <td>3.0</td>\n",
              "      <td>254.0</td>\n",
              "      <td>104.0</td>\n",
              "    </tr>\n",
              "    <tr>\n",
              "      <th>146</th>\n",
              "      <td>1.782000e+12</td>\n",
              "      <td>3.472000e+11</td>\n",
              "      <td>4.394000e+11</td>\n",
              "      <td>9.0</td>\n",
              "      <td>162.0</td>\n",
              "      <td>48.0</td>\n",
              "    </tr>\n",
              "    <tr>\n",
              "      <th>147</th>\n",
              "      <td>6.117000e+11</td>\n",
              "      <td>8.689000e+10</td>\n",
              "      <td>9.810000e+10</td>\n",
              "      <td>19.0</td>\n",
              "      <td>253.0</td>\n",
              "      <td>51.0</td>\n",
              "    </tr>\n",
              "    <tr>\n",
              "      <th>148</th>\n",
              "      <td>1.175000e+13</td>\n",
              "      <td>7.950000e+11</td>\n",
              "      <td>1.476000e+12</td>\n",
              "      <td>44.0</td>\n",
              "      <td>157.0</td>\n",
              "      <td>55.0</td>\n",
              "    </tr>\n",
              "  </tbody>\n",
              "</table>\n",
              "<p>149 rows × 6 columns</p>\n",
              "</div>\n",
              "      <button class=\"colab-df-convert\" onclick=\"convertToInteractive('df-9eb5797a-fac8-4f9f-8f78-e4306d86e1bc')\"\n",
              "              title=\"Convert this dataframe to an interactive table.\"\n",
              "              style=\"display:none;\">\n",
              "        \n",
              "  <svg xmlns=\"http://www.w3.org/2000/svg\" height=\"24px\"viewBox=\"0 0 24 24\"\n",
              "       width=\"24px\">\n",
              "    <path d=\"M0 0h24v24H0V0z\" fill=\"none\"/>\n",
              "    <path d=\"M18.56 5.44l.94 2.06.94-2.06 2.06-.94-2.06-.94-.94-2.06-.94 2.06-2.06.94zm-11 1L8.5 8.5l.94-2.06 2.06-.94-2.06-.94L8.5 2.5l-.94 2.06-2.06.94zm10 10l.94 2.06.94-2.06 2.06-.94-2.06-.94-.94-2.06-.94 2.06-2.06.94z\"/><path d=\"M17.41 7.96l-1.37-1.37c-.4-.4-.92-.59-1.43-.59-.52 0-1.04.2-1.43.59L10.3 9.45l-7.72 7.72c-.78.78-.78 2.05 0 2.83L4 21.41c.39.39.9.59 1.41.59.51 0 1.02-.2 1.41-.59l7.78-7.78 2.81-2.81c.8-.78.8-2.07 0-2.86zM5.41 20L4 18.59l7.72-7.72 1.47 1.35L5.41 20z\"/>\n",
              "  </svg>\n",
              "      </button>\n",
              "      \n",
              "  <style>\n",
              "    .colab-df-container {\n",
              "      display:flex;\n",
              "      flex-wrap:wrap;\n",
              "      gap: 12px;\n",
              "    }\n",
              "\n",
              "    .colab-df-convert {\n",
              "      background-color: #E8F0FE;\n",
              "      border: none;\n",
              "      border-radius: 50%;\n",
              "      cursor: pointer;\n",
              "      display: none;\n",
              "      fill: #1967D2;\n",
              "      height: 32px;\n",
              "      padding: 0 0 0 0;\n",
              "      width: 32px;\n",
              "    }\n",
              "\n",
              "    .colab-df-convert:hover {\n",
              "      background-color: #E2EBFA;\n",
              "      box-shadow: 0px 1px 2px rgba(60, 64, 67, 0.3), 0px 1px 3px 1px rgba(60, 64, 67, 0.15);\n",
              "      fill: #174EA6;\n",
              "    }\n",
              "\n",
              "    [theme=dark] .colab-df-convert {\n",
              "      background-color: #3B4455;\n",
              "      fill: #D2E3FC;\n",
              "    }\n",
              "\n",
              "    [theme=dark] .colab-df-convert:hover {\n",
              "      background-color: #434B5C;\n",
              "      box-shadow: 0px 1px 3px 1px rgba(0, 0, 0, 0.15);\n",
              "      filter: drop-shadow(0px 1px 2px rgba(0, 0, 0, 0.3));\n",
              "      fill: #FFFFFF;\n",
              "    }\n",
              "  </style>\n",
              "\n",
              "      <script>\n",
              "        const buttonEl =\n",
              "          document.querySelector('#df-9eb5797a-fac8-4f9f-8f78-e4306d86e1bc button.colab-df-convert');\n",
              "        buttonEl.style.display =\n",
              "          google.colab.kernel.accessAllowed ? 'block' : 'none';\n",
              "\n",
              "        async function convertToInteractive(key) {\n",
              "          const element = document.querySelector('#df-9eb5797a-fac8-4f9f-8f78-e4306d86e1bc');\n",
              "          const dataTable =\n",
              "            await google.colab.kernel.invokeFunction('convertToInteractive',\n",
              "                                                     [key], {});\n",
              "          if (!dataTable) return;\n",
              "\n",
              "          const docLinkHtml = 'Like what you see? Visit the ' +\n",
              "            '<a target=\"_blank\" href=https://colab.research.google.com/notebooks/data_table.ipynb>data table notebook</a>'\n",
              "            + ' to learn more about interactive tables.';\n",
              "          element.innerHTML = '';\n",
              "          dataTable['output_type'] = 'display_data';\n",
              "          await google.colab.output.renderOutput(dataTable, element);\n",
              "          const docLink = document.createElement('div');\n",
              "          docLink.innerHTML = docLinkHtml;\n",
              "          element.appendChild(docLink);\n",
              "        }\n",
              "      </script>\n",
              "    </div>\n",
              "  </div>\n",
              "  "
            ]
          },
          "metadata": {},
          "execution_count": 5
        }
      ]
    },
    {
      "cell_type": "markdown",
      "source": [
        "Menghapus missing Value dalam dataframe"
      ],
      "metadata": {
        "id": "Z20QJZ7d5G6u"
      }
    },
    {
      "cell_type": "code",
      "source": [
        "df = df.dropna()\n",
        "df.reset_index(drop=True, inplace=True)\n",
        "df"
      ],
      "metadata": {
        "colab": {
          "base_uri": "https://localhost:8080/",
          "height": 423
        },
        "id": "XlJM4t6fiat2",
        "outputId": "6da7f531-4409-457e-95bb-5feca5ef97ea"
      },
      "execution_count": null,
      "outputs": [
        {
          "output_type": "execute_result",
          "data": {
            "text/plain": [
              "                Y            X1            X2    X3     X4     X5\n",
              "0    3.745000e+12  5.388000e+11  4.018000e+11  66.0   24.0   47.0\n",
              "1    2.362000e+12  8.933000e+11  7.167000e+11  22.0  176.0  106.0\n",
              "2    3.102000e+11  1.130000e+11  3.621000e+10  28.0  172.0   25.0\n",
              "3    1.408000e+12  1.625000e+11  9.291000e+10  64.0  191.0   83.0\n",
              "4    2.519000e+11  1.307000e+11  1.211000e+11  47.0  204.0   34.0\n",
              "..            ...           ...           ...   ...    ...    ...\n",
              "111  1.609000e+12  3.364000e+11  3.293000e+11   7.0  193.0   86.0\n",
              "112  9.376000e+11  1.725000e+11  2.220000e+11   3.0  254.0  104.0\n",
              "113  1.782000e+12  3.472000e+11  4.394000e+11   9.0  162.0   48.0\n",
              "114  6.117000e+11  8.689000e+10  9.810000e+10  19.0  253.0   51.0\n",
              "115  1.175000e+13  7.950000e+11  1.476000e+12  44.0  157.0   55.0\n",
              "\n",
              "[116 rows x 6 columns]"
            ],
            "text/html": [
              "\n",
              "  <div id=\"df-1b29b1de-bd7d-4695-9889-fca19507abe2\">\n",
              "    <div class=\"colab-df-container\">\n",
              "      <div>\n",
              "<style scoped>\n",
              "    .dataframe tbody tr th:only-of-type {\n",
              "        vertical-align: middle;\n",
              "    }\n",
              "\n",
              "    .dataframe tbody tr th {\n",
              "        vertical-align: top;\n",
              "    }\n",
              "\n",
              "    .dataframe thead th {\n",
              "        text-align: right;\n",
              "    }\n",
              "</style>\n",
              "<table border=\"1\" class=\"dataframe\">\n",
              "  <thead>\n",
              "    <tr style=\"text-align: right;\">\n",
              "      <th></th>\n",
              "      <th>Y</th>\n",
              "      <th>X1</th>\n",
              "      <th>X2</th>\n",
              "      <th>X3</th>\n",
              "      <th>X4</th>\n",
              "      <th>X5</th>\n",
              "    </tr>\n",
              "  </thead>\n",
              "  <tbody>\n",
              "    <tr>\n",
              "      <th>0</th>\n",
              "      <td>3.745000e+12</td>\n",
              "      <td>5.388000e+11</td>\n",
              "      <td>4.018000e+11</td>\n",
              "      <td>66.0</td>\n",
              "      <td>24.0</td>\n",
              "      <td>47.0</td>\n",
              "    </tr>\n",
              "    <tr>\n",
              "      <th>1</th>\n",
              "      <td>2.362000e+12</td>\n",
              "      <td>8.933000e+11</td>\n",
              "      <td>7.167000e+11</td>\n",
              "      <td>22.0</td>\n",
              "      <td>176.0</td>\n",
              "      <td>106.0</td>\n",
              "    </tr>\n",
              "    <tr>\n",
              "      <th>2</th>\n",
              "      <td>3.102000e+11</td>\n",
              "      <td>1.130000e+11</td>\n",
              "      <td>3.621000e+10</td>\n",
              "      <td>28.0</td>\n",
              "      <td>172.0</td>\n",
              "      <td>25.0</td>\n",
              "    </tr>\n",
              "    <tr>\n",
              "      <th>3</th>\n",
              "      <td>1.408000e+12</td>\n",
              "      <td>1.625000e+11</td>\n",
              "      <td>9.291000e+10</td>\n",
              "      <td>64.0</td>\n",
              "      <td>191.0</td>\n",
              "      <td>83.0</td>\n",
              "    </tr>\n",
              "    <tr>\n",
              "      <th>4</th>\n",
              "      <td>2.519000e+11</td>\n",
              "      <td>1.307000e+11</td>\n",
              "      <td>1.211000e+11</td>\n",
              "      <td>47.0</td>\n",
              "      <td>204.0</td>\n",
              "      <td>34.0</td>\n",
              "    </tr>\n",
              "    <tr>\n",
              "      <th>...</th>\n",
              "      <td>...</td>\n",
              "      <td>...</td>\n",
              "      <td>...</td>\n",
              "      <td>...</td>\n",
              "      <td>...</td>\n",
              "      <td>...</td>\n",
              "    </tr>\n",
              "    <tr>\n",
              "      <th>111</th>\n",
              "      <td>1.609000e+12</td>\n",
              "      <td>3.364000e+11</td>\n",
              "      <td>3.293000e+11</td>\n",
              "      <td>7.0</td>\n",
              "      <td>193.0</td>\n",
              "      <td>86.0</td>\n",
              "    </tr>\n",
              "    <tr>\n",
              "      <th>112</th>\n",
              "      <td>9.376000e+11</td>\n",
              "      <td>1.725000e+11</td>\n",
              "      <td>2.220000e+11</td>\n",
              "      <td>3.0</td>\n",
              "      <td>254.0</td>\n",
              "      <td>104.0</td>\n",
              "    </tr>\n",
              "    <tr>\n",
              "      <th>113</th>\n",
              "      <td>1.782000e+12</td>\n",
              "      <td>3.472000e+11</td>\n",
              "      <td>4.394000e+11</td>\n",
              "      <td>9.0</td>\n",
              "      <td>162.0</td>\n",
              "      <td>48.0</td>\n",
              "    </tr>\n",
              "    <tr>\n",
              "      <th>114</th>\n",
              "      <td>6.117000e+11</td>\n",
              "      <td>8.689000e+10</td>\n",
              "      <td>9.810000e+10</td>\n",
              "      <td>19.0</td>\n",
              "      <td>253.0</td>\n",
              "      <td>51.0</td>\n",
              "    </tr>\n",
              "    <tr>\n",
              "      <th>115</th>\n",
              "      <td>1.175000e+13</td>\n",
              "      <td>7.950000e+11</td>\n",
              "      <td>1.476000e+12</td>\n",
              "      <td>44.0</td>\n",
              "      <td>157.0</td>\n",
              "      <td>55.0</td>\n",
              "    </tr>\n",
              "  </tbody>\n",
              "</table>\n",
              "<p>116 rows × 6 columns</p>\n",
              "</div>\n",
              "      <button class=\"colab-df-convert\" onclick=\"convertToInteractive('df-1b29b1de-bd7d-4695-9889-fca19507abe2')\"\n",
              "              title=\"Convert this dataframe to an interactive table.\"\n",
              "              style=\"display:none;\">\n",
              "        \n",
              "  <svg xmlns=\"http://www.w3.org/2000/svg\" height=\"24px\"viewBox=\"0 0 24 24\"\n",
              "       width=\"24px\">\n",
              "    <path d=\"M0 0h24v24H0V0z\" fill=\"none\"/>\n",
              "    <path d=\"M18.56 5.44l.94 2.06.94-2.06 2.06-.94-2.06-.94-.94-2.06-.94 2.06-2.06.94zm-11 1L8.5 8.5l.94-2.06 2.06-.94-2.06-.94L8.5 2.5l-.94 2.06-2.06.94zm10 10l.94 2.06.94-2.06 2.06-.94-2.06-.94-.94-2.06-.94 2.06-2.06.94z\"/><path d=\"M17.41 7.96l-1.37-1.37c-.4-.4-.92-.59-1.43-.59-.52 0-1.04.2-1.43.59L10.3 9.45l-7.72 7.72c-.78.78-.78 2.05 0 2.83L4 21.41c.39.39.9.59 1.41.59.51 0 1.02-.2 1.41-.59l7.78-7.78 2.81-2.81c.8-.78.8-2.07 0-2.86zM5.41 20L4 18.59l7.72-7.72 1.47 1.35L5.41 20z\"/>\n",
              "  </svg>\n",
              "      </button>\n",
              "      \n",
              "  <style>\n",
              "    .colab-df-container {\n",
              "      display:flex;\n",
              "      flex-wrap:wrap;\n",
              "      gap: 12px;\n",
              "    }\n",
              "\n",
              "    .colab-df-convert {\n",
              "      background-color: #E8F0FE;\n",
              "      border: none;\n",
              "      border-radius: 50%;\n",
              "      cursor: pointer;\n",
              "      display: none;\n",
              "      fill: #1967D2;\n",
              "      height: 32px;\n",
              "      padding: 0 0 0 0;\n",
              "      width: 32px;\n",
              "    }\n",
              "\n",
              "    .colab-df-convert:hover {\n",
              "      background-color: #E2EBFA;\n",
              "      box-shadow: 0px 1px 2px rgba(60, 64, 67, 0.3), 0px 1px 3px 1px rgba(60, 64, 67, 0.15);\n",
              "      fill: #174EA6;\n",
              "    }\n",
              "\n",
              "    [theme=dark] .colab-df-convert {\n",
              "      background-color: #3B4455;\n",
              "      fill: #D2E3FC;\n",
              "    }\n",
              "\n",
              "    [theme=dark] .colab-df-convert:hover {\n",
              "      background-color: #434B5C;\n",
              "      box-shadow: 0px 1px 3px 1px rgba(0, 0, 0, 0.15);\n",
              "      filter: drop-shadow(0px 1px 2px rgba(0, 0, 0, 0.3));\n",
              "      fill: #FFFFFF;\n",
              "    }\n",
              "  </style>\n",
              "\n",
              "      <script>\n",
              "        const buttonEl =\n",
              "          document.querySelector('#df-1b29b1de-bd7d-4695-9889-fca19507abe2 button.colab-df-convert');\n",
              "        buttonEl.style.display =\n",
              "          google.colab.kernel.accessAllowed ? 'block' : 'none';\n",
              "\n",
              "        async function convertToInteractive(key) {\n",
              "          const element = document.querySelector('#df-1b29b1de-bd7d-4695-9889-fca19507abe2');\n",
              "          const dataTable =\n",
              "            await google.colab.kernel.invokeFunction('convertToInteractive',\n",
              "                                                     [key], {});\n",
              "          if (!dataTable) return;\n",
              "\n",
              "          const docLinkHtml = 'Like what you see? Visit the ' +\n",
              "            '<a target=\"_blank\" href=https://colab.research.google.com/notebooks/data_table.ipynb>data table notebook</a>'\n",
              "            + ' to learn more about interactive tables.';\n",
              "          element.innerHTML = '';\n",
              "          dataTable['output_type'] = 'display_data';\n",
              "          await google.colab.output.renderOutput(dataTable, element);\n",
              "          const docLink = document.createElement('div');\n",
              "          docLink.innerHTML = docLinkHtml;\n",
              "          element.appendChild(docLink);\n",
              "        }\n",
              "      </script>\n",
              "    </div>\n",
              "  </div>\n",
              "  "
            ]
          },
          "metadata": {},
          "execution_count": 6
        }
      ]
    },
    {
      "cell_type": "markdown",
      "source": [
        "Re-check missing value dari setiap kolom"
      ],
      "metadata": {
        "id": "VWn1tt0B5RPR"
      }
    },
    {
      "cell_type": "code",
      "source": [
        "print(df.isnull().sum())"
      ],
      "metadata": {
        "colab": {
          "base_uri": "https://localhost:8080/"
        },
        "id": "WJBpKgvHi2je",
        "outputId": "3a63d8c2-a167-493b-b8bc-4a39b6f999b9"
      },
      "execution_count": null,
      "outputs": [
        {
          "output_type": "stream",
          "name": "stdout",
          "text": [
            "Y     0\n",
            "X1    0\n",
            "X2    0\n",
            "X3    0\n",
            "X4    0\n",
            "X5    0\n",
            "dtype: int64\n"
          ]
        }
      ]
    },
    {
      "cell_type": "markdown",
      "source": [
        "# **Model Regresi Linear Berganda**"
      ],
      "metadata": {
        "id": "TBL-RNvk6jhj"
      }
    },
    {
      "cell_type": "markdown",
      "source": [
        "inisialisasi Kolom menjadi list"
      ],
      "metadata": {
        "id": "hGvB5cRu7rOh"
      }
    },
    {
      "cell_type": "code",
      "source": [
        "list_Y = df[\"Y\"]\n",
        "list_X1 = df[\"X1\"]\n",
        "list_X2 = df[\"X2\"]\n",
        "list_X3 = df[\"X3\"]\n",
        "list_X4 = df[\"X4\"]\n",
        "list_X5 = df[\"X5\"]"
      ],
      "metadata": {
        "id": "zdTWXHDRi6Yu"
      },
      "execution_count": null,
      "outputs": []
    },
    {
      "cell_type": "markdown",
      "source": [
        "## Perhitungan Sigma Variabel regresi"
      ],
      "metadata": {
        "id": "4v5DVOJX75Ta"
      }
    },
    {
      "cell_type": "code",
      "source": [
        "jum_Y = 0\n",
        "for i in range (len(list_Y)):\n",
        "  temp = list_Y[i]\n",
        "  jum_Y += temp\n",
        "print(jum_Y)"
      ],
      "metadata": {
        "colab": {
          "base_uri": "https://localhost:8080/"
        },
        "id": "gAhjLBiZkNu3",
        "outputId": "f483f701-8f9f-4f4e-f325-8f5e81b19aa0"
      },
      "execution_count": null,
      "outputs": [
        {
          "output_type": "stream",
          "name": "stdout",
          "text": [
            "54384142000000.0\n"
          ]
        }
      ]
    },
    {
      "cell_type": "code",
      "source": [
        "jum_X1 = 0\n",
        "for i in range (len(list_X1)):\n",
        "  temp = list_X1[i]\n",
        "  jum_X1 += temp\n",
        "\n",
        "print(jum_X1)"
      ],
      "metadata": {
        "colab": {
          "base_uri": "https://localhost:8080/"
        },
        "id": "raNqKxpqkqf5",
        "outputId": "6ca511e4-cfdc-4bb9-964a-c603aafd29cc"
      },
      "execution_count": null,
      "outputs": [
        {
          "output_type": "stream",
          "name": "stdout",
          "text": [
            "8618245200000.0\n"
          ]
        }
      ]
    },
    {
      "cell_type": "code",
      "source": [
        "jum_X2 = 0\n",
        "for i in range (len(list_X2)):\n",
        "  temp = list_X2[i]\n",
        "  jum_X2 += temp\n",
        "\n",
        "print(jum_X2)"
      ],
      "metadata": {
        "colab": {
          "base_uri": "https://localhost:8080/"
        },
        "id": "uqivlzSakuJU",
        "outputId": "56479646-d28f-42b8-9a03-3052a008d67d"
      },
      "execution_count": null,
      "outputs": [
        {
          "output_type": "stream",
          "name": "stdout",
          "text": [
            "8617518000000.0\n"
          ]
        }
      ]
    },
    {
      "cell_type": "code",
      "source": [
        "jum_X3 = 0\n",
        "for i in range (len(list_X3)):\n",
        "  temp = list_X3[i]\n",
        "  jum_X3 += temp\n",
        "\n",
        "print(jum_X3)"
      ],
      "metadata": {
        "colab": {
          "base_uri": "https://localhost:8080/"
        },
        "id": "Sxcqwjfhkz2L",
        "outputId": "9d762e45-ef3c-4d5d-a4a3-8da263944bcf"
      },
      "execution_count": null,
      "outputs": [
        {
          "output_type": "stream",
          "name": "stdout",
          "text": [
            "4560.0\n"
          ]
        }
      ]
    },
    {
      "cell_type": "code",
      "source": [
        "jum_X4 = 0\n",
        "for i in range (len(list_X4)):\n",
        "  temp = list_X4[i]\n",
        "  jum_X4 += temp\n",
        "\n",
        "print(jum_X4)"
      ],
      "metadata": {
        "colab": {
          "base_uri": "https://localhost:8080/"
        },
        "id": "n-L4nhDIk3x3",
        "outputId": "bc984f85-602e-4a24-8bab-ba215902a202"
      },
      "execution_count": null,
      "outputs": [
        {
          "output_type": "stream",
          "name": "stdout",
          "text": [
            "21551.0\n"
          ]
        }
      ]
    },
    {
      "cell_type": "code",
      "source": [
        "jum_X5 = 0\n",
        "for i in range (len(list_X5)):\n",
        "  temp = list_X5[i]\n",
        "  jum_X5 += temp\n",
        "\n",
        "print(jum_X5)"
      ],
      "metadata": {
        "colab": {
          "base_uri": "https://localhost:8080/"
        },
        "id": "a1AU66Gxk6VS",
        "outputId": "3ee8e33b-e64d-43f1-e601-3d2ec0df4586"
      },
      "execution_count": null,
      "outputs": [
        {
          "output_type": "stream",
          "name": "stdout",
          "text": [
            "8322.0\n"
          ]
        }
      ]
    },
    {
      "cell_type": "code",
      "source": [
        "jum_Ypangkat2 = 0\n",
        "\n",
        "for i in range (len(list_Y)):\n",
        "  temp = list_Y[i]**2\n",
        "  jum_Ypangkat2 += temp\n",
        "\n",
        "print(jum_Ypangkat2)"
      ],
      "metadata": {
        "colab": {
          "base_uri": "https://localhost:8080/"
        },
        "id": "ELjbzpAZmS-s",
        "outputId": "020832ae-14c9-4693-c4ad-3baa15e4f98d"
      },
      "execution_count": null,
      "outputs": [
        {
          "output_type": "stream",
          "name": "stdout",
          "text": [
            "2.430410745013239e+26\n"
          ]
        }
      ]
    },
    {
      "cell_type": "code",
      "source": [
        "jum_X1pangkat2 = 0\n",
        "\n",
        "for i in range (len(list_X1)):\n",
        "  temp = list_X1[i]**2\n",
        "  jum_X1pangkat2 += temp\n",
        "\n",
        "print(jum_X1pangkat2)"
      ],
      "metadata": {
        "colab": {
          "base_uri": "https://localhost:8080/"
        },
        "id": "Z3g3AB5pmwGT",
        "outputId": "9aa68110-63e0-4713-b6f6-8f092645ec96"
      },
      "execution_count": null,
      "outputs": [
        {
          "output_type": "stream",
          "name": "stdout",
          "text": [
            "3.175863392746079e+24\n"
          ]
        }
      ]
    },
    {
      "cell_type": "code",
      "source": [
        "jum_X2pangkat2 = 0\n",
        "\n",
        "for i in range (len(list_X2)):\n",
        "  temp = list_X2[i]**2\n",
        "  jum_X2pangkat2 += temp\n",
        "\n",
        "print(jum_X2pangkat2)"
      ],
      "metadata": {
        "colab": {
          "base_uri": "https://localhost:8080/"
        },
        "id": "Ze8O0tDMm3vY",
        "outputId": "eea731bb-5115-49e1-ae19-5fdf5ab1aca7"
      },
      "execution_count": null,
      "outputs": [
        {
          "output_type": "stream",
          "name": "stdout",
          "text": [
            "4.221715336144281e+24\n"
          ]
        }
      ]
    },
    {
      "cell_type": "code",
      "source": [
        "jum_X3pangkat2 = 0\n",
        "\n",
        "for i in range (len(list_X3)):\n",
        "  temp = list_X3[i]**2\n",
        "  jum_X3pangkat2 += temp\n",
        "\n",
        "print(jum_X3pangkat2)"
      ],
      "metadata": {
        "colab": {
          "base_uri": "https://localhost:8080/"
        },
        "id": "yOuEfRgum6x4",
        "outputId": "2c5ce0a0-c1a4-49c6-a852-595e41b180b4"
      },
      "execution_count": null,
      "outputs": [
        {
          "output_type": "stream",
          "name": "stdout",
          "text": [
            "379042.0\n"
          ]
        }
      ]
    },
    {
      "cell_type": "code",
      "source": [
        "jum_X4pangkat2 = 0\n",
        "\n",
        "for i in range (len(list_X4)):\n",
        "  temp = list_X4[i]**2\n",
        "  jum_X4pangkat2 += temp\n",
        "\n",
        "print(jum_X4pangkat2)"
      ],
      "metadata": {
        "colab": {
          "base_uri": "https://localhost:8080/"
        },
        "id": "u8Ip7UTMm8_v",
        "outputId": "f8979220-5072-4904-c52a-5ef4f8471433"
      },
      "execution_count": null,
      "outputs": [
        {
          "output_type": "stream",
          "name": "stdout",
          "text": [
            "5079731.0\n"
          ]
        }
      ]
    },
    {
      "cell_type": "code",
      "source": [
        "jum_X5pangkat2 = 0\n",
        "\n",
        "for i in range (len(list_X5)):\n",
        "  temp = list_X5[i]**2\n",
        "  jum_X5pangkat2 += temp\n",
        "\n",
        "print(jum_X5pangkat2)"
      ],
      "metadata": {
        "colab": {
          "base_uri": "https://localhost:8080/"
        },
        "id": "VplJccwNm_I8",
        "outputId": "e7636e45-e628-4562-c0e7-1bee2a5c2b0f"
      },
      "execution_count": null,
      "outputs": [
        {
          "output_type": "stream",
          "name": "stdout",
          "text": [
            "1067234.0\n"
          ]
        }
      ]
    },
    {
      "cell_type": "code",
      "source": [
        "jum_X1xX2 = 0\n",
        "\n",
        "for i in range (len(list_X1)):\n",
        "  temp = list_X1[i] * list_X2[i]\n",
        "  jum_X1xX2 += temp\n",
        "\n",
        "print(jum_X1xX2)"
      ],
      "metadata": {
        "colab": {
          "base_uri": "https://localhost:8080/"
        },
        "id": "2D8cquOOnMCw",
        "outputId": "486d8f28-6033-40c8-9e94-c92784d3e5d0"
      },
      "execution_count": null,
      "outputs": [
        {
          "output_type": "stream",
          "name": "stdout",
          "text": [
            "3.4211320093785e+24\n"
          ]
        }
      ]
    },
    {
      "cell_type": "code",
      "source": [
        "jum_X1xX3 = 0\n",
        "\n",
        "for i in range (len(list_X1)):\n",
        "  temp = list_X1[i] * list_X3[i]\n",
        "  jum_X1xX3 += temp\n",
        "\n",
        "print(jum_X1xX3)"
      ],
      "metadata": {
        "colab": {
          "base_uri": "https://localhost:8080/"
        },
        "id": "3v7gP0rKnMy7",
        "outputId": "96dd139d-bcc4-4f00-9235-7a36eaacf56e"
      },
      "execution_count": null,
      "outputs": [
        {
          "output_type": "stream",
          "name": "stdout",
          "text": [
            "412566554100000.0\n"
          ]
        }
      ]
    },
    {
      "cell_type": "code",
      "source": [
        "jum_X1xX4 = 0\n",
        "\n",
        "for i in range (len(list_X1)):\n",
        "  temp = list_X1[i] * list_X4[i]\n",
        "  jum_X1xX4 += temp\n",
        "\n",
        "print(jum_X1xX4)"
      ],
      "metadata": {
        "colab": {
          "base_uri": "https://localhost:8080/"
        },
        "id": "YmZg7QaNnPGa",
        "outputId": "450c7fb7-a8cb-4381-c84f-8afcb33197f1"
      },
      "execution_count": null,
      "outputs": [
        {
          "output_type": "stream",
          "name": "stdout",
          "text": [
            "1455976732000000.0\n"
          ]
        }
      ]
    },
    {
      "cell_type": "code",
      "source": [
        "jum_X1xX5 = 0\n",
        "\n",
        "for i in range (len(list_X1)):\n",
        "  temp = list_X1[i] * list_X5[i]\n",
        "  jum_X1xX5 += temp\n",
        "\n",
        "print(jum_X1xX5)"
      ],
      "metadata": {
        "colab": {
          "base_uri": "https://localhost:8080/"
        },
        "id": "kZnXmwURnTA_",
        "outputId": "4fe7c1e9-bdd2-4b42-a4bf-e13bf6874fc4"
      },
      "execution_count": null,
      "outputs": [
        {
          "output_type": "stream",
          "name": "stdout",
          "text": [
            "570587119100000.0\n"
          ]
        }
      ]
    },
    {
      "cell_type": "code",
      "source": [
        "jum_X2xX3 = 0\n",
        "\n",
        "for i in range (len(list_X1)):\n",
        "  temp = list_X2[i] * list_X3[i]\n",
        "  jum_X2xX3 += temp\n",
        "\n",
        "print(jum_X2xX3)"
      ],
      "metadata": {
        "colab": {
          "base_uri": "https://localhost:8080/"
        },
        "id": "GctmaQmqnWLG",
        "outputId": "985570dd-245a-4f84-a4e6-47ea99123db3"
      },
      "execution_count": null,
      "outputs": [
        {
          "output_type": "stream",
          "name": "stdout",
          "text": [
            "407058437500000.0\n"
          ]
        }
      ]
    },
    {
      "cell_type": "code",
      "source": [
        "jum_X2xX4 = 0\n",
        "\n",
        "for i in range (len(list_X2)):\n",
        "  temp = list_X2[i] * list_X4[i]\n",
        "  jum_X2xX4 += temp\n",
        "\n",
        "print(jum_X2xX4)"
      ],
      "metadata": {
        "colab": {
          "base_uri": "https://localhost:8080/"
        },
        "id": "F3w0BWMQnYSQ",
        "outputId": "c481ad12-4501-4265-b1eb-8d96ecd9cb8c"
      },
      "execution_count": null,
      "outputs": [
        {
          "output_type": "stream",
          "name": "stdout",
          "text": [
            "1455694163600000.0\n"
          ]
        }
      ]
    },
    {
      "cell_type": "code",
      "source": [
        "jum_X2xX5 = 0\n",
        "\n",
        "for i in range (len(list_X2)):\n",
        "  temp = list_X2[i] * list_X5[i]\n",
        "  jum_X2xX5 += temp\n",
        "\n",
        "print(jum_X2xX5)"
      ],
      "metadata": {
        "colab": {
          "base_uri": "https://localhost:8080/"
        },
        "id": "MnW8Uu3unaj2",
        "outputId": "b58219c2-ef28-42ab-92ff-5e5cf118383f"
      },
      "execution_count": null,
      "outputs": [
        {
          "output_type": "stream",
          "name": "stdout",
          "text": [
            "565991589700000.0\n"
          ]
        }
      ]
    },
    {
      "cell_type": "code",
      "source": [
        "jum_X3xX4 = 0\n",
        "\n",
        "for i in range (len(list_X3)):\n",
        "  temp = list_X3[i] * list_X4[i]\n",
        "  jum_X3xX4 += temp\n",
        "\n",
        "print(jum_X3xX4)"
      ],
      "metadata": {
        "colab": {
          "base_uri": "https://localhost:8080/"
        },
        "id": "cIVxWChqnbPx",
        "outputId": "bd5192f4-ecc1-4bd4-fe9f-0503546f8fe6"
      },
      "execution_count": null,
      "outputs": [
        {
          "output_type": "stream",
          "name": "stdout",
          "text": [
            "856478.0\n"
          ]
        }
      ]
    },
    {
      "cell_type": "code",
      "source": [
        "jum_X3xX5 = 0\n",
        "\n",
        "for i in range (len(list_X3)):\n",
        "  temp = list_X3[i] * list_X5[i]\n",
        "  jum_X3xX5 += temp\n",
        "\n",
        "print(jum_X3xX5)"
      ],
      "metadata": {
        "colab": {
          "base_uri": "https://localhost:8080/"
        },
        "id": "NbzzzIWDndZB",
        "outputId": "4ef5d1b6-225e-4906-b0b8-bee74eaf3112"
      },
      "execution_count": null,
      "outputs": [
        {
          "output_type": "stream",
          "name": "stdout",
          "text": [
            "345463.0\n"
          ]
        }
      ]
    },
    {
      "cell_type": "code",
      "source": [
        "jum_X4xX5 = 0\n",
        "\n",
        "for i in range (len(list_X4)):\n",
        "  temp = list_X4[i] * list_X5[i]\n",
        "  jum_X4xX5 += temp\n",
        "\n",
        "print(jum_X4xX5)"
      ],
      "metadata": {
        "colab": {
          "base_uri": "https://localhost:8080/"
        },
        "id": "8ApOJn-TngFK",
        "outputId": "72170d0d-7772-4ecd-b949-72ebf1f840ed"
      },
      "execution_count": null,
      "outputs": [
        {
          "output_type": "stream",
          "name": "stdout",
          "text": [
            "1532176.0\n"
          ]
        }
      ]
    },
    {
      "cell_type": "code",
      "source": [
        "jum_X1xY = 0\n",
        "\n",
        "for i in range (len(list_X1)):\n",
        "  temp = list_X1[i] * list_Y[i]\n",
        "  jum_X1xY += temp\n",
        "\n",
        "print(jum_X1xY)"
      ],
      "metadata": {
        "colab": {
          "base_uri": "https://localhost:8080/"
        },
        "id": "xAc-B7FVniMZ",
        "outputId": "b8bb4691-75c6-4ae9-f62a-b12c06d3f95d"
      },
      "execution_count": null,
      "outputs": [
        {
          "output_type": "stream",
          "name": "stdout",
          "text": [
            "2.21080188110875e+25\n"
          ]
        }
      ]
    },
    {
      "cell_type": "code",
      "source": [
        "jum_X2xY = 0\n",
        "\n",
        "for i in range (len(list_X2)):\n",
        "  temp = list_X2[i] * list_Y[i]\n",
        "  jum_X2xY += temp\n",
        "\n",
        "print(jum_X2xY)"
      ],
      "metadata": {
        "colab": {
          "base_uri": "https://localhost:8080/"
        },
        "id": "PG6Uf6UtnpLr",
        "outputId": "55d94ede-4bcc-45ed-f710-d5c76bbc55e2"
      },
      "execution_count": null,
      "outputs": [
        {
          "output_type": "stream",
          "name": "stdout",
          "text": [
            "2.8900609231781503e+25\n"
          ]
        }
      ]
    },
    {
      "cell_type": "code",
      "source": [
        "jum_X3xY = 0\n",
        "\n",
        "for i in range (len(list_X3)):\n",
        "  temp = list_X3[i] * list_Y[i]\n",
        "  jum_X3xY += temp\n",
        "\n",
        "print(jum_X3xY)"
      ],
      "metadata": {
        "colab": {
          "base_uri": "https://localhost:8080/"
        },
        "id": "1p5hUi1NnrM9",
        "outputId": "36bccaa3-fdb6-4fd7-f402-6f686d2a8212"
      },
      "execution_count": null,
      "outputs": [
        {
          "output_type": "stream",
          "name": "stdout",
          "text": [
            "3335102462000000.0\n"
          ]
        }
      ]
    },
    {
      "cell_type": "code",
      "source": [
        "jum_X4xY = 0\n",
        "\n",
        "for i in range (len(list_X4)):\n",
        "  temp = list_X4[i] * list_Y[i]\n",
        "  jum_X4xY += temp\n",
        "\n",
        "print(jum_X4xY)"
      ],
      "metadata": {
        "colab": {
          "base_uri": "https://localhost:8080/"
        },
        "id": "e90unF6VntVH",
        "outputId": "54bb9e79-8b5e-44da-ca41-e835e69747ae"
      },
      "execution_count": null,
      "outputs": [
        {
          "output_type": "stream",
          "name": "stdout",
          "text": [
            "8430132552000000.0\n"
          ]
        }
      ]
    },
    {
      "cell_type": "code",
      "source": [
        "jum_X5xY = 0\n",
        "\n",
        "for i in range (len(list_X5)):\n",
        "  temp = list_X5[i] * list_Y[i]\n",
        "  jum_X5xY += temp\n",
        "\n",
        "print(jum_X5xY)"
      ],
      "metadata": {
        "colab": {
          "base_uri": "https://localhost:8080/"
        },
        "id": "fEXp22hEnvhW",
        "outputId": "2fb8eb94-582e-440a-8a66-7388cf665854"
      },
      "execution_count": null,
      "outputs": [
        {
          "output_type": "stream",
          "name": "stdout",
          "text": [
            "4076819971000000.0\n"
          ]
        }
      ]
    },
    {
      "cell_type": "markdown",
      "source": [
        "## Membuat Matriks A untuk mencari SPL\n",
        "\n",
        "\n"
      ],
      "metadata": {
        "id": "jB9QiqgBvuMA"
      }
    },
    {
      "cell_type": "code",
      "source": [
        "A = np.array([[len(df), jum_X1,jum_X2,jum_X3,jum_X4,jum_X5],\n",
        "    [jum_X1,jum_X1pangkat2,jum_X1xX2,jum_X1xX3,jum_X1xX4,jum_X1xX5],\n",
        "    [jum_X2,jum_X1xX2,jum_X2pangkat2,jum_X2xX3,jum_X2xX4,jum_X2xX5],\n",
        "    [jum_X3,jum_X1xX3,jum_X2xX3,jum_X3pangkat2,jum_X3xX4,jum_X3xX5],\n",
        "    [jum_X4,jum_X1xX4,jum_X2xX4,jum_X3xX4,jum_X4pangkat2,jum_X4xX5],\n",
        "    [jum_X5,jum_X1xX5,jum_X2xX5,jum_X3xX5,jum_X4xX5,jum_X5pangkat2]\n",
        "])\n",
        "A"
      ],
      "metadata": {
        "colab": {
          "base_uri": "https://localhost:8080/"
        },
        "id": "-PtlAn-nn4Gw",
        "outputId": "07236f35-ead2-498d-e89c-1dc2fadc897b"
      },
      "execution_count": null,
      "outputs": [
        {
          "output_type": "execute_result",
          "data": {
            "text/plain": [
              "array([[1.16000000e+02, 8.61824520e+12, 8.61751800e+12, 4.56000000e+03,\n",
              "        2.15510000e+04, 8.32200000e+03],\n",
              "       [8.61824520e+12, 3.17586339e+24, 3.42113201e+24, 4.12566554e+14,\n",
              "        1.45597673e+15, 5.70587119e+14],\n",
              "       [8.61751800e+12, 3.42113201e+24, 4.22171534e+24, 4.07058438e+14,\n",
              "        1.45569416e+15, 5.65991590e+14],\n",
              "       [4.56000000e+03, 4.12566554e+14, 4.07058438e+14, 3.79042000e+05,\n",
              "        8.56478000e+05, 3.45463000e+05],\n",
              "       [2.15510000e+04, 1.45597673e+15, 1.45569416e+15, 8.56478000e+05,\n",
              "        5.07973100e+06, 1.53217600e+06],\n",
              "       [8.32200000e+03, 5.70587119e+14, 5.65991590e+14, 3.45463000e+05,\n",
              "        1.53217600e+06, 1.06723400e+06]])"
            ]
          },
          "metadata": {},
          "execution_count": 36
        }
      ]
    },
    {
      "cell_type": "markdown",
      "source": [
        "## Koefisien Variabel"
      ],
      "metadata": {
        "id": "LyIPhOvs8O0k"
      }
    },
    {
      "cell_type": "code",
      "source": [
        "b = np.array([jum_Y, jum_X1xY, jum_X2xY, jum_X3xY, jum_X4xY, jum_X5xY])\n",
        "\n",
        "x = solve(A, b)\n",
        "\n",
        "SPL = pd.DataFrame(x, index=['b0', 'b1', 'b2', 'b3', 'b4', 'b5'], columns=['Nilai Koefisien'])\n",
        "SPL"
      ],
      "metadata": {
        "colab": {
          "base_uri": "https://localhost:8080/",
          "height": 272
        },
        "id": "LmVe6FyJY_0Y",
        "outputId": "fc92bb0b-486e-4928-bc70-871fbe9c9c0f"
      },
      "execution_count": null,
      "outputs": [
        {
          "output_type": "stream",
          "name": "stderr",
          "text": [
            "<ipython-input-37-52ff1039b3dc>:3: LinAlgWarning: Ill-conditioned matrix (rcond=2.08921e-24): result may not be accurate.\n",
            "  x = solve(A, b)\n"
          ]
        },
        {
          "output_type": "execute_result",
          "data": {
            "text/plain": [
              "    Nilai Koefisien\n",
              "b0    -6.061183e+10\n",
              "b1    -3.550117e+00\n",
              "b2     9.604364e+00\n",
              "b3     3.972849e+09\n",
              "b4    -7.600573e+08\n",
              "b5     9.022980e+08"
            ],
            "text/html": [
              "\n",
              "  <div id=\"df-0282b719-3589-451a-95a9-6da99bb9ce67\">\n",
              "    <div class=\"colab-df-container\">\n",
              "      <div>\n",
              "<style scoped>\n",
              "    .dataframe tbody tr th:only-of-type {\n",
              "        vertical-align: middle;\n",
              "    }\n",
              "\n",
              "    .dataframe tbody tr th {\n",
              "        vertical-align: top;\n",
              "    }\n",
              "\n",
              "    .dataframe thead th {\n",
              "        text-align: right;\n",
              "    }\n",
              "</style>\n",
              "<table border=\"1\" class=\"dataframe\">\n",
              "  <thead>\n",
              "    <tr style=\"text-align: right;\">\n",
              "      <th></th>\n",
              "      <th>Nilai Koefisien</th>\n",
              "    </tr>\n",
              "  </thead>\n",
              "  <tbody>\n",
              "    <tr>\n",
              "      <th>b0</th>\n",
              "      <td>-6.061183e+10</td>\n",
              "    </tr>\n",
              "    <tr>\n",
              "      <th>b1</th>\n",
              "      <td>-3.550117e+00</td>\n",
              "    </tr>\n",
              "    <tr>\n",
              "      <th>b2</th>\n",
              "      <td>9.604364e+00</td>\n",
              "    </tr>\n",
              "    <tr>\n",
              "      <th>b3</th>\n",
              "      <td>3.972849e+09</td>\n",
              "    </tr>\n",
              "    <tr>\n",
              "      <th>b4</th>\n",
              "      <td>-7.600573e+08</td>\n",
              "    </tr>\n",
              "    <tr>\n",
              "      <th>b5</th>\n",
              "      <td>9.022980e+08</td>\n",
              "    </tr>\n",
              "  </tbody>\n",
              "</table>\n",
              "</div>\n",
              "      <button class=\"colab-df-convert\" onclick=\"convertToInteractive('df-0282b719-3589-451a-95a9-6da99bb9ce67')\"\n",
              "              title=\"Convert this dataframe to an interactive table.\"\n",
              "              style=\"display:none;\">\n",
              "        \n",
              "  <svg xmlns=\"http://www.w3.org/2000/svg\" height=\"24px\"viewBox=\"0 0 24 24\"\n",
              "       width=\"24px\">\n",
              "    <path d=\"M0 0h24v24H0V0z\" fill=\"none\"/>\n",
              "    <path d=\"M18.56 5.44l.94 2.06.94-2.06 2.06-.94-2.06-.94-.94-2.06-.94 2.06-2.06.94zm-11 1L8.5 8.5l.94-2.06 2.06-.94-2.06-.94L8.5 2.5l-.94 2.06-2.06.94zm10 10l.94 2.06.94-2.06 2.06-.94-2.06-.94-.94-2.06-.94 2.06-2.06.94z\"/><path d=\"M17.41 7.96l-1.37-1.37c-.4-.4-.92-.59-1.43-.59-.52 0-1.04.2-1.43.59L10.3 9.45l-7.72 7.72c-.78.78-.78 2.05 0 2.83L4 21.41c.39.39.9.59 1.41.59.51 0 1.02-.2 1.41-.59l7.78-7.78 2.81-2.81c.8-.78.8-2.07 0-2.86zM5.41 20L4 18.59l7.72-7.72 1.47 1.35L5.41 20z\"/>\n",
              "  </svg>\n",
              "      </button>\n",
              "      \n",
              "  <style>\n",
              "    .colab-df-container {\n",
              "      display:flex;\n",
              "      flex-wrap:wrap;\n",
              "      gap: 12px;\n",
              "    }\n",
              "\n",
              "    .colab-df-convert {\n",
              "      background-color: #E8F0FE;\n",
              "      border: none;\n",
              "      border-radius: 50%;\n",
              "      cursor: pointer;\n",
              "      display: none;\n",
              "      fill: #1967D2;\n",
              "      height: 32px;\n",
              "      padding: 0 0 0 0;\n",
              "      width: 32px;\n",
              "    }\n",
              "\n",
              "    .colab-df-convert:hover {\n",
              "      background-color: #E2EBFA;\n",
              "      box-shadow: 0px 1px 2px rgba(60, 64, 67, 0.3), 0px 1px 3px 1px rgba(60, 64, 67, 0.15);\n",
              "      fill: #174EA6;\n",
              "    }\n",
              "\n",
              "    [theme=dark] .colab-df-convert {\n",
              "      background-color: #3B4455;\n",
              "      fill: #D2E3FC;\n",
              "    }\n",
              "\n",
              "    [theme=dark] .colab-df-convert:hover {\n",
              "      background-color: #434B5C;\n",
              "      box-shadow: 0px 1px 3px 1px rgba(0, 0, 0, 0.15);\n",
              "      filter: drop-shadow(0px 1px 2px rgba(0, 0, 0, 0.3));\n",
              "      fill: #FFFFFF;\n",
              "    }\n",
              "  </style>\n",
              "\n",
              "      <script>\n",
              "        const buttonEl =\n",
              "          document.querySelector('#df-0282b719-3589-451a-95a9-6da99bb9ce67 button.colab-df-convert');\n",
              "        buttonEl.style.display =\n",
              "          google.colab.kernel.accessAllowed ? 'block' : 'none';\n",
              "\n",
              "        async function convertToInteractive(key) {\n",
              "          const element = document.querySelector('#df-0282b719-3589-451a-95a9-6da99bb9ce67');\n",
              "          const dataTable =\n",
              "            await google.colab.kernel.invokeFunction('convertToInteractive',\n",
              "                                                     [key], {});\n",
              "          if (!dataTable) return;\n",
              "\n",
              "          const docLinkHtml = 'Like what you see? Visit the ' +\n",
              "            '<a target=\"_blank\" href=https://colab.research.google.com/notebooks/data_table.ipynb>data table notebook</a>'\n",
              "            + ' to learn more about interactive tables.';\n",
              "          element.innerHTML = '';\n",
              "          dataTable['output_type'] = 'display_data';\n",
              "          await google.colab.output.renderOutput(dataTable, element);\n",
              "          const docLink = document.createElement('div');\n",
              "          docLink.innerHTML = docLinkHtml;\n",
              "          element.appendChild(docLink);\n",
              "        }\n",
              "      </script>\n",
              "    </div>\n",
              "  </div>\n",
              "  "
            ]
          },
          "metadata": {},
          "execution_count": 37
        }
      ]
    },
    {
      "cell_type": "markdown",
      "source": [
        "## SPL regresi berganda"
      ],
      "metadata": {
        "id": "Ncn9Lp_i7ByU"
      }
    },
    {
      "cell_type": "code",
      "source": [
        "b0 = x[0]\n",
        "b1 = x[1]\n",
        "b2 = x[2]\n",
        "b3 = x[3]\n",
        "b4 = x[4]\n",
        "b5 = x[5]\n",
        "\n",
        "print(\"SPL : Y =\", b0, \" + \" , b1,\"X1 + \",b2,\"X2 + \",b3,\"X3 + \",b4,\"X4 + \",b5,\"X5\")"
      ],
      "metadata": {
        "colab": {
          "base_uri": "https://localhost:8080/"
        },
        "id": "mmibdU-pwnMe",
        "outputId": "18aa72ae-9587-4f0f-a362-274aee85a10d"
      },
      "execution_count": null,
      "outputs": [
        {
          "output_type": "stream",
          "name": "stdout",
          "text": [
            "SPL : Y = -60611829069.70882  +  -3.550117458142596 X1 +  9.604363680230055 X2 +  3972849141.353929 X3 +  -760057342.2227511 X4 +  902297971.6293895 X5\n"
          ]
        }
      ]
    },
    {
      "cell_type": "markdown",
      "source": [
        "## Koefisien Determinasi Berganda (R^2) untuk Y"
      ],
      "metadata": {
        "id": "BkY3Dme58maW"
      }
    },
    {
      "cell_type": "markdown",
      "source": [
        "Persamaan Regresi dalam Matriks"
      ],
      "metadata": {
        "id": "X1wSWdudylnP"
      }
    },
    {
      "cell_type": "code",
      "source": [
        "# Membuat matriks X dan array GDP\n",
        "X = np.array([[1, x1, x2, x3, x4, x5] for x1, x2, x3, x4, x5 in zip(df['X1'], df['X2'], df['X3'], df['X4'], df['X5'])])\n",
        "Y = np.array(df['Y'])\n",
        "\n",
        "# Menggunakan matriks X invers untuk menghitung nilai koefisien\n",
        "b = np.linalg.inv(X.T.dot(X)).dot(X.T).dot(Y)\n",
        "\n",
        "# Membuat DataFrame untuk menampilkan nilai koefisien\n",
        "koef_b = pd.DataFrame(b, index=['b0', 'b1', 'b2', 'b3', 'b4', 'b5'], columns=['Nilai koefisien'])\n",
        "koef_b\n",
        "\n"
      ],
      "metadata": {
        "colab": {
          "base_uri": "https://localhost:8080/",
          "height": 237
        },
        "id": "bJC2gnLXcKPR",
        "outputId": "bc01aeac-b632-49a5-8035-dd297ce18f0a"
      },
      "execution_count": null,
      "outputs": [
        {
          "output_type": "execute_result",
          "data": {
            "text/plain": [
              "    Nilai koefisien\n",
              "b0    -6.061183e+10\n",
              "b1    -3.550117e+00\n",
              "b2     9.604364e+00\n",
              "b3     3.972849e+09\n",
              "b4    -7.600573e+08\n",
              "b5     9.022980e+08"
            ],
            "text/html": [
              "\n",
              "  <div id=\"df-f1c826de-c860-45a0-9046-9db662fa5f5c\">\n",
              "    <div class=\"colab-df-container\">\n",
              "      <div>\n",
              "<style scoped>\n",
              "    .dataframe tbody tr th:only-of-type {\n",
              "        vertical-align: middle;\n",
              "    }\n",
              "\n",
              "    .dataframe tbody tr th {\n",
              "        vertical-align: top;\n",
              "    }\n",
              "\n",
              "    .dataframe thead th {\n",
              "        text-align: right;\n",
              "    }\n",
              "</style>\n",
              "<table border=\"1\" class=\"dataframe\">\n",
              "  <thead>\n",
              "    <tr style=\"text-align: right;\">\n",
              "      <th></th>\n",
              "      <th>Nilai koefisien</th>\n",
              "    </tr>\n",
              "  </thead>\n",
              "  <tbody>\n",
              "    <tr>\n",
              "      <th>b0</th>\n",
              "      <td>-6.061183e+10</td>\n",
              "    </tr>\n",
              "    <tr>\n",
              "      <th>b1</th>\n",
              "      <td>-3.550117e+00</td>\n",
              "    </tr>\n",
              "    <tr>\n",
              "      <th>b2</th>\n",
              "      <td>9.604364e+00</td>\n",
              "    </tr>\n",
              "    <tr>\n",
              "      <th>b3</th>\n",
              "      <td>3.972849e+09</td>\n",
              "    </tr>\n",
              "    <tr>\n",
              "      <th>b4</th>\n",
              "      <td>-7.600573e+08</td>\n",
              "    </tr>\n",
              "    <tr>\n",
              "      <th>b5</th>\n",
              "      <td>9.022980e+08</td>\n",
              "    </tr>\n",
              "  </tbody>\n",
              "</table>\n",
              "</div>\n",
              "      <button class=\"colab-df-convert\" onclick=\"convertToInteractive('df-f1c826de-c860-45a0-9046-9db662fa5f5c')\"\n",
              "              title=\"Convert this dataframe to an interactive table.\"\n",
              "              style=\"display:none;\">\n",
              "        \n",
              "  <svg xmlns=\"http://www.w3.org/2000/svg\" height=\"24px\"viewBox=\"0 0 24 24\"\n",
              "       width=\"24px\">\n",
              "    <path d=\"M0 0h24v24H0V0z\" fill=\"none\"/>\n",
              "    <path d=\"M18.56 5.44l.94 2.06.94-2.06 2.06-.94-2.06-.94-.94-2.06-.94 2.06-2.06.94zm-11 1L8.5 8.5l.94-2.06 2.06-.94-2.06-.94L8.5 2.5l-.94 2.06-2.06.94zm10 10l.94 2.06.94-2.06 2.06-.94-2.06-.94-.94-2.06-.94 2.06-2.06.94z\"/><path d=\"M17.41 7.96l-1.37-1.37c-.4-.4-.92-.59-1.43-.59-.52 0-1.04.2-1.43.59L10.3 9.45l-7.72 7.72c-.78.78-.78 2.05 0 2.83L4 21.41c.39.39.9.59 1.41.59.51 0 1.02-.2 1.41-.59l7.78-7.78 2.81-2.81c.8-.78.8-2.07 0-2.86zM5.41 20L4 18.59l7.72-7.72 1.47 1.35L5.41 20z\"/>\n",
              "  </svg>\n",
              "      </button>\n",
              "      \n",
              "  <style>\n",
              "    .colab-df-container {\n",
              "      display:flex;\n",
              "      flex-wrap:wrap;\n",
              "      gap: 12px;\n",
              "    }\n",
              "\n",
              "    .colab-df-convert {\n",
              "      background-color: #E8F0FE;\n",
              "      border: none;\n",
              "      border-radius: 50%;\n",
              "      cursor: pointer;\n",
              "      display: none;\n",
              "      fill: #1967D2;\n",
              "      height: 32px;\n",
              "      padding: 0 0 0 0;\n",
              "      width: 32px;\n",
              "    }\n",
              "\n",
              "    .colab-df-convert:hover {\n",
              "      background-color: #E2EBFA;\n",
              "      box-shadow: 0px 1px 2px rgba(60, 64, 67, 0.3), 0px 1px 3px 1px rgba(60, 64, 67, 0.15);\n",
              "      fill: #174EA6;\n",
              "    }\n",
              "\n",
              "    [theme=dark] .colab-df-convert {\n",
              "      background-color: #3B4455;\n",
              "      fill: #D2E3FC;\n",
              "    }\n",
              "\n",
              "    [theme=dark] .colab-df-convert:hover {\n",
              "      background-color: #434B5C;\n",
              "      box-shadow: 0px 1px 3px 1px rgba(0, 0, 0, 0.15);\n",
              "      filter: drop-shadow(0px 1px 2px rgba(0, 0, 0, 0.3));\n",
              "      fill: #FFFFFF;\n",
              "    }\n",
              "  </style>\n",
              "\n",
              "      <script>\n",
              "        const buttonEl =\n",
              "          document.querySelector('#df-f1c826de-c860-45a0-9046-9db662fa5f5c button.colab-df-convert');\n",
              "        buttonEl.style.display =\n",
              "          google.colab.kernel.accessAllowed ? 'block' : 'none';\n",
              "\n",
              "        async function convertToInteractive(key) {\n",
              "          const element = document.querySelector('#df-f1c826de-c860-45a0-9046-9db662fa5f5c');\n",
              "          const dataTable =\n",
              "            await google.colab.kernel.invokeFunction('convertToInteractive',\n",
              "                                                     [key], {});\n",
              "          if (!dataTable) return;\n",
              "\n",
              "          const docLinkHtml = 'Like what you see? Visit the ' +\n",
              "            '<a target=\"_blank\" href=https://colab.research.google.com/notebooks/data_table.ipynb>data table notebook</a>'\n",
              "            + ' to learn more about interactive tables.';\n",
              "          element.innerHTML = '';\n",
              "          dataTable['output_type'] = 'display_data';\n",
              "          await google.colab.output.renderOutput(dataTable, element);\n",
              "          const docLink = document.createElement('div');\n",
              "          docLink.innerHTML = docLinkHtml;\n",
              "          element.appendChild(docLink);\n",
              "        }\n",
              "      </script>\n",
              "    </div>\n",
              "  </div>\n",
              "  "
            ]
          },
          "metadata": {},
          "execution_count": 39
        }
      ]
    },
    {
      "cell_type": "markdown",
      "source": [
        "menghitung JKT"
      ],
      "metadata": {
        "id": "9k_fHaSR80VZ"
      }
    },
    {
      "cell_type": "code",
      "source": [
        "JKT = 0\n",
        "JKT = (jum_Ypangkat2) - (jum_Y)**2 / len(Y)\n",
        "JKT"
      ],
      "metadata": {
        "colab": {
          "base_uri": "https://localhost:8080/"
        },
        "id": "DHLvz_Myakit",
        "outputId": "a6fc8c62-ff7f-4c0f-c2cc-4cd960aac8e1"
      },
      "execution_count": null,
      "outputs": [
        {
          "output_type": "execute_result",
          "data": {
            "text/plain": [
              "2.1754422190583974e+26"
            ]
          },
          "metadata": {},
          "execution_count": 40
        }
      ]
    },
    {
      "cell_type": "markdown",
      "source": [
        "Menghitung nilai g/galat"
      ],
      "metadata": {
        "id": "IThcZTAb85lR"
      }
    },
    {
      "cell_type": "code",
      "source": [
        "g = X.T.dot(Y)\n",
        "g"
      ],
      "metadata": {
        "colab": {
          "base_uri": "https://localhost:8080/"
        },
        "id": "NOwRTny-bMK4",
        "outputId": "588ed7c2-8307-4b16-b297-aed254d97c79"
      },
      "execution_count": null,
      "outputs": [
        {
          "output_type": "execute_result",
          "data": {
            "text/plain": [
              "array([5.43841420e+13, 2.21080188e+25, 2.89006092e+25, 3.33510246e+15,\n",
              "       8.43013255e+15, 4.07681997e+15])"
            ]
          },
          "metadata": {},
          "execution_count": 41
        }
      ]
    },
    {
      "cell_type": "markdown",
      "source": [
        "menghitung JKR"
      ],
      "metadata": {
        "id": "_M3HuLFh88TK"
      }
    },
    {
      "cell_type": "code",
      "source": [
        "JKR = 0\n",
        "\n",
        "for i in range(len(b)):\n",
        "  JKR += b[i] * g[i]\n",
        "JKR = JKR - (jum_Y)**2 / len(Y)\n",
        "\n",
        "JKR\n",
        "\n"
      ],
      "metadata": {
        "colab": {
          "base_uri": "https://localhost:8080/"
        },
        "id": "hTLe1MdhaylZ",
        "outputId": "01f3695c-3252-4e85-8efe-7c149bcec3a4"
      },
      "execution_count": null,
      "outputs": [
        {
          "output_type": "execute_result",
          "data": {
            "text/plain": [
              "1.8081370438252327e+26"
            ]
          },
          "metadata": {},
          "execution_count": 42
        }
      ]
    },
    {
      "cell_type": "markdown",
      "source": [
        "Menghitung JKG"
      ],
      "metadata": {
        "id": "tt_mJzhT8_MK"
      }
    },
    {
      "cell_type": "code",
      "source": [
        "JKG = JKT - JKR\n",
        "JKG"
      ],
      "metadata": {
        "colab": {
          "base_uri": "https://localhost:8080/"
        },
        "id": "8SmfnWLZa1d0",
        "outputId": "3aed8615-121e-4c03-c5c4-85f5e6741fe4"
      },
      "execution_count": null,
      "outputs": [
        {
          "output_type": "execute_result",
          "data": {
            "text/plain": [
              "3.6730517523316474e+25"
            ]
          },
          "metadata": {},
          "execution_count": 43
        }
      ]
    },
    {
      "cell_type": "markdown",
      "source": [
        "memperoleh nilai R(Determinasi berganda) dari Y(target)"
      ],
      "metadata": {
        "id": "1FiaJY599GFz"
      }
    },
    {
      "cell_type": "code",
      "source": [
        "R2y1 = JKR / JKT\n",
        "R2y1"
      ],
      "metadata": {
        "colab": {
          "base_uri": "https://localhost:8080/"
        },
        "id": "X-FTudbMa4V8",
        "outputId": "ef44e0ca-2d42-4cd6-f513-4aae5e7b583c"
      },
      "execution_count": null,
      "outputs": [
        {
          "output_type": "execute_result",
          "data": {
            "text/plain": [
              "0.8311583860902789"
            ]
          },
          "metadata": {},
          "execution_count": 44
        }
      ]
    },
    {
      "cell_type": "markdown",
      "source": [
        "# **Metode Regresi Bertahap**"
      ],
      "metadata": {
        "id": "w1o-dDDc0Qnz"
      }
    },
    {
      "cell_type": "markdown",
      "source": [
        "### ***Step-1***"
      ],
      "metadata": {
        "id": "taf4zRBUzxFe"
      }
    },
    {
      "cell_type": "markdown",
      "source": [
        "menghitung nilai R dari setiap X(variabel bebas), lalu dicari mana yang terbesar"
      ],
      "metadata": {
        "id": "eHyGmqxx0ktr"
      }
    },
    {
      "cell_type": "code",
      "source": [
        "# Menghitung nilai Rmax\n",
        "Rmax = []\n",
        "for var in ['X1', 'X2', 'X3', 'X4', 'X5']:\n",
        "    X = np.array([[1, df[var][i]] for i in range(len(df))])\n",
        "    Y = np.array(df['Y'])\n",
        "    b = np.linalg.inv(X.T.dot(X)).dot(X.T).dot(Y)\n",
        "    g = X.T.dot(Y)\n",
        "\n",
        "\n",
        "    JKR = 0\n",
        "    for i in range(len(b)):\n",
        "        JKR += b[i] * g[i]\n",
        "    JKR = JKR - (jum_Y**2) / len(Y)\n",
        "\n",
        "    Rmax.append(JKR)\n",
        "\n",
        "# Membuat DataFrame untuk menampilkan nilai Rmax\n",
        "R = pd.DataFrame(Rmax, index=['X1', 'X2', 'X3', 'X4', 'X5'], columns=['nilai R'])\n",
        "R\n",
        "\n",
        "\n",
        "\n",
        "\n"
      ],
      "metadata": {
        "colab": {
          "base_uri": "https://localhost:8080/",
          "height": 206
        },
        "id": "IHZWC1JAj4v-",
        "outputId": "5b13e629-4ad3-4910-f7e7-0a9034661846"
      },
      "execution_count": null,
      "outputs": [
        {
          "output_type": "execute_result",
          "data": {
            "text/plain": [
              "         nilai R\n",
              "X1  1.287427e+26\n",
              "X2  1.725640e+26\n",
              "X3  7.174602e+24\n",
              "X4  2.603359e+24\n",
              "X5  6.530034e+22"
            ],
            "text/html": [
              "\n",
              "  <div id=\"df-77b42892-7a1d-461a-82d2-a2a025acf095\">\n",
              "    <div class=\"colab-df-container\">\n",
              "      <div>\n",
              "<style scoped>\n",
              "    .dataframe tbody tr th:only-of-type {\n",
              "        vertical-align: middle;\n",
              "    }\n",
              "\n",
              "    .dataframe tbody tr th {\n",
              "        vertical-align: top;\n",
              "    }\n",
              "\n",
              "    .dataframe thead th {\n",
              "        text-align: right;\n",
              "    }\n",
              "</style>\n",
              "<table border=\"1\" class=\"dataframe\">\n",
              "  <thead>\n",
              "    <tr style=\"text-align: right;\">\n",
              "      <th></th>\n",
              "      <th>nilai R</th>\n",
              "    </tr>\n",
              "  </thead>\n",
              "  <tbody>\n",
              "    <tr>\n",
              "      <th>X1</th>\n",
              "      <td>1.287427e+26</td>\n",
              "    </tr>\n",
              "    <tr>\n",
              "      <th>X2</th>\n",
              "      <td>1.725640e+26</td>\n",
              "    </tr>\n",
              "    <tr>\n",
              "      <th>X3</th>\n",
              "      <td>7.174602e+24</td>\n",
              "    </tr>\n",
              "    <tr>\n",
              "      <th>X4</th>\n",
              "      <td>2.603359e+24</td>\n",
              "    </tr>\n",
              "    <tr>\n",
              "      <th>X5</th>\n",
              "      <td>6.530034e+22</td>\n",
              "    </tr>\n",
              "  </tbody>\n",
              "</table>\n",
              "</div>\n",
              "      <button class=\"colab-df-convert\" onclick=\"convertToInteractive('df-77b42892-7a1d-461a-82d2-a2a025acf095')\"\n",
              "              title=\"Convert this dataframe to an interactive table.\"\n",
              "              style=\"display:none;\">\n",
              "        \n",
              "  <svg xmlns=\"http://www.w3.org/2000/svg\" height=\"24px\"viewBox=\"0 0 24 24\"\n",
              "       width=\"24px\">\n",
              "    <path d=\"M0 0h24v24H0V0z\" fill=\"none\"/>\n",
              "    <path d=\"M18.56 5.44l.94 2.06.94-2.06 2.06-.94-2.06-.94-.94-2.06-.94 2.06-2.06.94zm-11 1L8.5 8.5l.94-2.06 2.06-.94-2.06-.94L8.5 2.5l-.94 2.06-2.06.94zm10 10l.94 2.06.94-2.06 2.06-.94-2.06-.94-.94-2.06-.94 2.06-2.06.94z\"/><path d=\"M17.41 7.96l-1.37-1.37c-.4-.4-.92-.59-1.43-.59-.52 0-1.04.2-1.43.59L10.3 9.45l-7.72 7.72c-.78.78-.78 2.05 0 2.83L4 21.41c.39.39.9.59 1.41.59.51 0 1.02-.2 1.41-.59l7.78-7.78 2.81-2.81c.8-.78.8-2.07 0-2.86zM5.41 20L4 18.59l7.72-7.72 1.47 1.35L5.41 20z\"/>\n",
              "  </svg>\n",
              "      </button>\n",
              "      \n",
              "  <style>\n",
              "    .colab-df-container {\n",
              "      display:flex;\n",
              "      flex-wrap:wrap;\n",
              "      gap: 12px;\n",
              "    }\n",
              "\n",
              "    .colab-df-convert {\n",
              "      background-color: #E8F0FE;\n",
              "      border: none;\n",
              "      border-radius: 50%;\n",
              "      cursor: pointer;\n",
              "      display: none;\n",
              "      fill: #1967D2;\n",
              "      height: 32px;\n",
              "      padding: 0 0 0 0;\n",
              "      width: 32px;\n",
              "    }\n",
              "\n",
              "    .colab-df-convert:hover {\n",
              "      background-color: #E2EBFA;\n",
              "      box-shadow: 0px 1px 2px rgba(60, 64, 67, 0.3), 0px 1px 3px 1px rgba(60, 64, 67, 0.15);\n",
              "      fill: #174EA6;\n",
              "    }\n",
              "\n",
              "    [theme=dark] .colab-df-convert {\n",
              "      background-color: #3B4455;\n",
              "      fill: #D2E3FC;\n",
              "    }\n",
              "\n",
              "    [theme=dark] .colab-df-convert:hover {\n",
              "      background-color: #434B5C;\n",
              "      box-shadow: 0px 1px 3px 1px rgba(0, 0, 0, 0.15);\n",
              "      filter: drop-shadow(0px 1px 2px rgba(0, 0, 0, 0.3));\n",
              "      fill: #FFFFFF;\n",
              "    }\n",
              "  </style>\n",
              "\n",
              "      <script>\n",
              "        const buttonEl =\n",
              "          document.querySelector('#df-77b42892-7a1d-461a-82d2-a2a025acf095 button.colab-df-convert');\n",
              "        buttonEl.style.display =\n",
              "          google.colab.kernel.accessAllowed ? 'block' : 'none';\n",
              "\n",
              "        async function convertToInteractive(key) {\n",
              "          const element = document.querySelector('#df-77b42892-7a1d-461a-82d2-a2a025acf095');\n",
              "          const dataTable =\n",
              "            await google.colab.kernel.invokeFunction('convertToInteractive',\n",
              "                                                     [key], {});\n",
              "          if (!dataTable) return;\n",
              "\n",
              "          const docLinkHtml = 'Like what you see? Visit the ' +\n",
              "            '<a target=\"_blank\" href=https://colab.research.google.com/notebooks/data_table.ipynb>data table notebook</a>'\n",
              "            + ' to learn more about interactive tables.';\n",
              "          element.innerHTML = '';\n",
              "          dataTable['output_type'] = 'display_data';\n",
              "          await google.colab.output.renderOutput(dataTable, element);\n",
              "          const docLink = document.createElement('div');\n",
              "          docLink.innerHTML = docLinkHtml;\n",
              "          element.appendChild(docLink);\n",
              "        }\n",
              "      </script>\n",
              "    </div>\n",
              "  </div>\n",
              "  "
            ]
          },
          "metadata": {},
          "execution_count": 62
        }
      ]
    },
    {
      "cell_type": "code",
      "source": [
        "# Mengambil nilai R terbesar\n",
        "R[R['nilai R'] == R['nilai R'].max()]"
      ],
      "metadata": {
        "colab": {
          "base_uri": "https://localhost:8080/",
          "height": 81
        },
        "id": "7TnDN0mtf39O",
        "outputId": "4c04f66f-37e4-4ae9-8e3e-4e2cb6cb8564"
      },
      "execution_count": null,
      "outputs": [
        {
          "output_type": "execute_result",
          "data": {
            "text/plain": [
              "         nilai R\n",
              "X2  1.725640e+26"
            ],
            "text/html": [
              "\n",
              "  <div id=\"df-b57ef03e-4f18-4499-aa49-8d78a18ded02\">\n",
              "    <div class=\"colab-df-container\">\n",
              "      <div>\n",
              "<style scoped>\n",
              "    .dataframe tbody tr th:only-of-type {\n",
              "        vertical-align: middle;\n",
              "    }\n",
              "\n",
              "    .dataframe tbody tr th {\n",
              "        vertical-align: top;\n",
              "    }\n",
              "\n",
              "    .dataframe thead th {\n",
              "        text-align: right;\n",
              "    }\n",
              "</style>\n",
              "<table border=\"1\" class=\"dataframe\">\n",
              "  <thead>\n",
              "    <tr style=\"text-align: right;\">\n",
              "      <th></th>\n",
              "      <th>nilai R</th>\n",
              "    </tr>\n",
              "  </thead>\n",
              "  <tbody>\n",
              "    <tr>\n",
              "      <th>X2</th>\n",
              "      <td>1.725640e+26</td>\n",
              "    </tr>\n",
              "  </tbody>\n",
              "</table>\n",
              "</div>\n",
              "      <button class=\"colab-df-convert\" onclick=\"convertToInteractive('df-b57ef03e-4f18-4499-aa49-8d78a18ded02')\"\n",
              "              title=\"Convert this dataframe to an interactive table.\"\n",
              "              style=\"display:none;\">\n",
              "        \n",
              "  <svg xmlns=\"http://www.w3.org/2000/svg\" height=\"24px\"viewBox=\"0 0 24 24\"\n",
              "       width=\"24px\">\n",
              "    <path d=\"M0 0h24v24H0V0z\" fill=\"none\"/>\n",
              "    <path d=\"M18.56 5.44l.94 2.06.94-2.06 2.06-.94-2.06-.94-.94-2.06-.94 2.06-2.06.94zm-11 1L8.5 8.5l.94-2.06 2.06-.94-2.06-.94L8.5 2.5l-.94 2.06-2.06.94zm10 10l.94 2.06.94-2.06 2.06-.94-2.06-.94-.94-2.06-.94 2.06-2.06.94z\"/><path d=\"M17.41 7.96l-1.37-1.37c-.4-.4-.92-.59-1.43-.59-.52 0-1.04.2-1.43.59L10.3 9.45l-7.72 7.72c-.78.78-.78 2.05 0 2.83L4 21.41c.39.39.9.59 1.41.59.51 0 1.02-.2 1.41-.59l7.78-7.78 2.81-2.81c.8-.78.8-2.07 0-2.86zM5.41 20L4 18.59l7.72-7.72 1.47 1.35L5.41 20z\"/>\n",
              "  </svg>\n",
              "      </button>\n",
              "      \n",
              "  <style>\n",
              "    .colab-df-container {\n",
              "      display:flex;\n",
              "      flex-wrap:wrap;\n",
              "      gap: 12px;\n",
              "    }\n",
              "\n",
              "    .colab-df-convert {\n",
              "      background-color: #E8F0FE;\n",
              "      border: none;\n",
              "      border-radius: 50%;\n",
              "      cursor: pointer;\n",
              "      display: none;\n",
              "      fill: #1967D2;\n",
              "      height: 32px;\n",
              "      padding: 0 0 0 0;\n",
              "      width: 32px;\n",
              "    }\n",
              "\n",
              "    .colab-df-convert:hover {\n",
              "      background-color: #E2EBFA;\n",
              "      box-shadow: 0px 1px 2px rgba(60, 64, 67, 0.3), 0px 1px 3px 1px rgba(60, 64, 67, 0.15);\n",
              "      fill: #174EA6;\n",
              "    }\n",
              "\n",
              "    [theme=dark] .colab-df-convert {\n",
              "      background-color: #3B4455;\n",
              "      fill: #D2E3FC;\n",
              "    }\n",
              "\n",
              "    [theme=dark] .colab-df-convert:hover {\n",
              "      background-color: #434B5C;\n",
              "      box-shadow: 0px 1px 3px 1px rgba(0, 0, 0, 0.15);\n",
              "      filter: drop-shadow(0px 1px 2px rgba(0, 0, 0, 0.3));\n",
              "      fill: #FFFFFF;\n",
              "    }\n",
              "  </style>\n",
              "\n",
              "      <script>\n",
              "        const buttonEl =\n",
              "          document.querySelector('#df-b57ef03e-4f18-4499-aa49-8d78a18ded02 button.colab-df-convert');\n",
              "        buttonEl.style.display =\n",
              "          google.colab.kernel.accessAllowed ? 'block' : 'none';\n",
              "\n",
              "        async function convertToInteractive(key) {\n",
              "          const element = document.querySelector('#df-b57ef03e-4f18-4499-aa49-8d78a18ded02');\n",
              "          const dataTable =\n",
              "            await google.colab.kernel.invokeFunction('convertToInteractive',\n",
              "                                                     [key], {});\n",
              "          if (!dataTable) return;\n",
              "\n",
              "          const docLinkHtml = 'Like what you see? Visit the ' +\n",
              "            '<a target=\"_blank\" href=https://colab.research.google.com/notebooks/data_table.ipynb>data table notebook</a>'\n",
              "            + ' to learn more about interactive tables.';\n",
              "          element.innerHTML = '';\n",
              "          dataTable['output_type'] = 'display_data';\n",
              "          await google.colab.output.renderOutput(dataTable, element);\n",
              "          const docLink = document.createElement('div');\n",
              "          docLink.innerHTML = docLinkHtml;\n",
              "          element.appendChild(docLink);\n",
              "        }\n",
              "      </script>\n",
              "    </div>\n",
              "  </div>\n",
              "  "
            ]
          },
          "metadata": {},
          "execution_count": 46
        }
      ]
    },
    {
      "cell_type": "code",
      "source": [
        "# Menghitung nilai variansi residu (s^2) pada X2\n",
        "X = np.array([[1, df['X2'][i]] for i in range(len(df))])\n",
        "Y = np.array(df['Y'])\n",
        "b = np.linalg.inv(X.T.dot(X)).dot(X.T).dot(Y)\n",
        "g = X.T.dot(Y)\n",
        "\n",
        "JKT = jum_Ypangkat2 - jum_Y**2 / len(Y)\n",
        "JKR = np.sum(b * g) - jum_Y**2 / len(Y)\n",
        "JKG = JKT - JKR\n",
        "s2 = JKG / (len(Y) - 2)\n",
        "\n",
        "print (\"s^2(X2) =\", s2)\n",
        "\n",
        "# Menghitung nilai F hitung dan F tabel\n",
        "Fhitung = JKR / s2\n",
        "Ftabel = stats.f.isf(0.05, 1, len(Y) - 2)\n",
        "\n",
        "# Menampilkan hasil\n",
        "if Fhitung > Ftabel:\n",
        "    print('f hitung =', Fhitung, '>', 'f tabel =', Ftabel)\n",
        "    print('Maka peubah X2 masuk dalam model')\n",
        "else:\n",
        "    print('f hitung =', Fhitung, '<', 'f tabel =', Ftabel)\n",
        "    print('Maka peubah X2 tidak masuk dalam model')"
      ],
      "metadata": {
        "colab": {
          "base_uri": "https://localhost:8080/"
        },
        "id": "Zy7hWDMUf8CA",
        "outputId": "52ec5adb-b22c-4b9d-887d-154e44f8b531"
      },
      "execution_count": null,
      "outputs": [
        {
          "output_type": "stream",
          "name": "stdout",
          "text": [
            "s^2(X2) = 3.9456352914563145e+23\n",
            "f hitung = 437.35410608501843 > f tabel = 3.924330484639666\n",
            "Maka peubah X2 masuk dalam model\n"
          ]
        }
      ]
    },
    {
      "cell_type": "markdown",
      "source": [
        "### ***Step-2***"
      ],
      "metadata": {
        "id": "fP740v4V05sW"
      }
    },
    {
      "cell_type": "markdown",
      "source": [
        "X2 sudah diambil sebagai variabel yang termasuk model, sehingga tersisa X1, X3, X4, X5"
      ],
      "metadata": {
        "id": "AXAKPsXS0-53"
      }
    },
    {
      "cell_type": "code",
      "source": [
        "# Menghitung nilai R2max\n",
        "R2max = []\n",
        "for var in ['X1', 'X3', 'X4', 'X5']:\n",
        "    X = np.array([[1, df['X2'][i], df[var][i]] for i in range(len(df))])\n",
        "    Y = np.array(df['Y'])\n",
        "    b = np.linalg.inv(X.T.dot(X)).dot(X.T).dot(Y)\n",
        "    g = X.T.dot(Y)\n",
        "\n",
        "    JKR = np.sum(b * g) - (jum_Y**2) / len(Y)\n",
        "    R2max.append(JKR - Rmax[1])\n",
        "\n",
        "# Membuat DataFrame untuk menampilkan nilai R2max\n",
        "R2 = pd.DataFrame(R2max, index=['X1', 'X3', 'X4', 'X5'], columns=['nilai R'])\n",
        "R2\n"
      ],
      "metadata": {
        "colab": {
          "base_uri": "https://localhost:8080/",
          "height": 175
        },
        "id": "0lmaXf5SgzQb",
        "outputId": "944ec5f9-7e42-42dd-fddc-0f7f08a07f8e"
      },
      "execution_count": null,
      "outputs": [
        {
          "output_type": "execute_result",
          "data": {
            "text/plain": [
              "         nilai R\n",
              "X1  4.055902e+24\n",
              "X3  2.634671e+24\n",
              "X4  4.132691e+23\n",
              "X5  6.162228e+23"
            ],
            "text/html": [
              "\n",
              "  <div id=\"df-c755b1a9-6f29-4ff5-bc6d-1adf2625e9ff\">\n",
              "    <div class=\"colab-df-container\">\n",
              "      <div>\n",
              "<style scoped>\n",
              "    .dataframe tbody tr th:only-of-type {\n",
              "        vertical-align: middle;\n",
              "    }\n",
              "\n",
              "    .dataframe tbody tr th {\n",
              "        vertical-align: top;\n",
              "    }\n",
              "\n",
              "    .dataframe thead th {\n",
              "        text-align: right;\n",
              "    }\n",
              "</style>\n",
              "<table border=\"1\" class=\"dataframe\">\n",
              "  <thead>\n",
              "    <tr style=\"text-align: right;\">\n",
              "      <th></th>\n",
              "      <th>nilai R</th>\n",
              "    </tr>\n",
              "  </thead>\n",
              "  <tbody>\n",
              "    <tr>\n",
              "      <th>X1</th>\n",
              "      <td>4.055902e+24</td>\n",
              "    </tr>\n",
              "    <tr>\n",
              "      <th>X3</th>\n",
              "      <td>2.634671e+24</td>\n",
              "    </tr>\n",
              "    <tr>\n",
              "      <th>X4</th>\n",
              "      <td>4.132691e+23</td>\n",
              "    </tr>\n",
              "    <tr>\n",
              "      <th>X5</th>\n",
              "      <td>6.162228e+23</td>\n",
              "    </tr>\n",
              "  </tbody>\n",
              "</table>\n",
              "</div>\n",
              "      <button class=\"colab-df-convert\" onclick=\"convertToInteractive('df-c755b1a9-6f29-4ff5-bc6d-1adf2625e9ff')\"\n",
              "              title=\"Convert this dataframe to an interactive table.\"\n",
              "              style=\"display:none;\">\n",
              "        \n",
              "  <svg xmlns=\"http://www.w3.org/2000/svg\" height=\"24px\"viewBox=\"0 0 24 24\"\n",
              "       width=\"24px\">\n",
              "    <path d=\"M0 0h24v24H0V0z\" fill=\"none\"/>\n",
              "    <path d=\"M18.56 5.44l.94 2.06.94-2.06 2.06-.94-2.06-.94-.94-2.06-.94 2.06-2.06.94zm-11 1L8.5 8.5l.94-2.06 2.06-.94-2.06-.94L8.5 2.5l-.94 2.06-2.06.94zm10 10l.94 2.06.94-2.06 2.06-.94-2.06-.94-.94-2.06-.94 2.06-2.06.94z\"/><path d=\"M17.41 7.96l-1.37-1.37c-.4-.4-.92-.59-1.43-.59-.52 0-1.04.2-1.43.59L10.3 9.45l-7.72 7.72c-.78.78-.78 2.05 0 2.83L4 21.41c.39.39.9.59 1.41.59.51 0 1.02-.2 1.41-.59l7.78-7.78 2.81-2.81c.8-.78.8-2.07 0-2.86zM5.41 20L4 18.59l7.72-7.72 1.47 1.35L5.41 20z\"/>\n",
              "  </svg>\n",
              "      </button>\n",
              "      \n",
              "  <style>\n",
              "    .colab-df-container {\n",
              "      display:flex;\n",
              "      flex-wrap:wrap;\n",
              "      gap: 12px;\n",
              "    }\n",
              "\n",
              "    .colab-df-convert {\n",
              "      background-color: #E8F0FE;\n",
              "      border: none;\n",
              "      border-radius: 50%;\n",
              "      cursor: pointer;\n",
              "      display: none;\n",
              "      fill: #1967D2;\n",
              "      height: 32px;\n",
              "      padding: 0 0 0 0;\n",
              "      width: 32px;\n",
              "    }\n",
              "\n",
              "    .colab-df-convert:hover {\n",
              "      background-color: #E2EBFA;\n",
              "      box-shadow: 0px 1px 2px rgba(60, 64, 67, 0.3), 0px 1px 3px 1px rgba(60, 64, 67, 0.15);\n",
              "      fill: #174EA6;\n",
              "    }\n",
              "\n",
              "    [theme=dark] .colab-df-convert {\n",
              "      background-color: #3B4455;\n",
              "      fill: #D2E3FC;\n",
              "    }\n",
              "\n",
              "    [theme=dark] .colab-df-convert:hover {\n",
              "      background-color: #434B5C;\n",
              "      box-shadow: 0px 1px 3px 1px rgba(0, 0, 0, 0.15);\n",
              "      filter: drop-shadow(0px 1px 2px rgba(0, 0, 0, 0.3));\n",
              "      fill: #FFFFFF;\n",
              "    }\n",
              "  </style>\n",
              "\n",
              "      <script>\n",
              "        const buttonEl =\n",
              "          document.querySelector('#df-c755b1a9-6f29-4ff5-bc6d-1adf2625e9ff button.colab-df-convert');\n",
              "        buttonEl.style.display =\n",
              "          google.colab.kernel.accessAllowed ? 'block' : 'none';\n",
              "\n",
              "        async function convertToInteractive(key) {\n",
              "          const element = document.querySelector('#df-c755b1a9-6f29-4ff5-bc6d-1adf2625e9ff');\n",
              "          const dataTable =\n",
              "            await google.colab.kernel.invokeFunction('convertToInteractive',\n",
              "                                                     [key], {});\n",
              "          if (!dataTable) return;\n",
              "\n",
              "          const docLinkHtml = 'Like what you see? Visit the ' +\n",
              "            '<a target=\"_blank\" href=https://colab.research.google.com/notebooks/data_table.ipynb>data table notebook</a>'\n",
              "            + ' to learn more about interactive tables.';\n",
              "          element.innerHTML = '';\n",
              "          dataTable['output_type'] = 'display_data';\n",
              "          await google.colab.output.renderOutput(dataTable, element);\n",
              "          const docLink = document.createElement('div');\n",
              "          docLink.innerHTML = docLinkHtml;\n",
              "          element.appendChild(docLink);\n",
              "        }\n",
              "      </script>\n",
              "    </div>\n",
              "  </div>\n",
              "  "
            ]
          },
          "metadata": {},
          "execution_count": 48
        }
      ]
    },
    {
      "cell_type": "markdown",
      "source": [],
      "metadata": {
        "id": "kvKf1Fx-1kBb"
      }
    },
    {
      "cell_type": "code",
      "source": [
        "# R terbesar yang kedua\n",
        "R2[R2['nilai R'] == R2['nilai R'].max()]"
      ],
      "metadata": {
        "colab": {
          "base_uri": "https://localhost:8080/",
          "height": 81
        },
        "id": "y8H0kZYFg2cr",
        "outputId": "d231bf84-25b2-4126-aa00-4583c546570f"
      },
      "execution_count": null,
      "outputs": [
        {
          "output_type": "execute_result",
          "data": {
            "text/plain": [
              "         nilai R\n",
              "X1  4.055902e+24"
            ],
            "text/html": [
              "\n",
              "  <div id=\"df-ca420f5e-ddee-4544-a4fe-ff48584e434f\">\n",
              "    <div class=\"colab-df-container\">\n",
              "      <div>\n",
              "<style scoped>\n",
              "    .dataframe tbody tr th:only-of-type {\n",
              "        vertical-align: middle;\n",
              "    }\n",
              "\n",
              "    .dataframe tbody tr th {\n",
              "        vertical-align: top;\n",
              "    }\n",
              "\n",
              "    .dataframe thead th {\n",
              "        text-align: right;\n",
              "    }\n",
              "</style>\n",
              "<table border=\"1\" class=\"dataframe\">\n",
              "  <thead>\n",
              "    <tr style=\"text-align: right;\">\n",
              "      <th></th>\n",
              "      <th>nilai R</th>\n",
              "    </tr>\n",
              "  </thead>\n",
              "  <tbody>\n",
              "    <tr>\n",
              "      <th>X1</th>\n",
              "      <td>4.055902e+24</td>\n",
              "    </tr>\n",
              "  </tbody>\n",
              "</table>\n",
              "</div>\n",
              "      <button class=\"colab-df-convert\" onclick=\"convertToInteractive('df-ca420f5e-ddee-4544-a4fe-ff48584e434f')\"\n",
              "              title=\"Convert this dataframe to an interactive table.\"\n",
              "              style=\"display:none;\">\n",
              "        \n",
              "  <svg xmlns=\"http://www.w3.org/2000/svg\" height=\"24px\"viewBox=\"0 0 24 24\"\n",
              "       width=\"24px\">\n",
              "    <path d=\"M0 0h24v24H0V0z\" fill=\"none\"/>\n",
              "    <path d=\"M18.56 5.44l.94 2.06.94-2.06 2.06-.94-2.06-.94-.94-2.06-.94 2.06-2.06.94zm-11 1L8.5 8.5l.94-2.06 2.06-.94-2.06-.94L8.5 2.5l-.94 2.06-2.06.94zm10 10l.94 2.06.94-2.06 2.06-.94-2.06-.94-.94-2.06-.94 2.06-2.06.94z\"/><path d=\"M17.41 7.96l-1.37-1.37c-.4-.4-.92-.59-1.43-.59-.52 0-1.04.2-1.43.59L10.3 9.45l-7.72 7.72c-.78.78-.78 2.05 0 2.83L4 21.41c.39.39.9.59 1.41.59.51 0 1.02-.2 1.41-.59l7.78-7.78 2.81-2.81c.8-.78.8-2.07 0-2.86zM5.41 20L4 18.59l7.72-7.72 1.47 1.35L5.41 20z\"/>\n",
              "  </svg>\n",
              "      </button>\n",
              "      \n",
              "  <style>\n",
              "    .colab-df-container {\n",
              "      display:flex;\n",
              "      flex-wrap:wrap;\n",
              "      gap: 12px;\n",
              "    }\n",
              "\n",
              "    .colab-df-convert {\n",
              "      background-color: #E8F0FE;\n",
              "      border: none;\n",
              "      border-radius: 50%;\n",
              "      cursor: pointer;\n",
              "      display: none;\n",
              "      fill: #1967D2;\n",
              "      height: 32px;\n",
              "      padding: 0 0 0 0;\n",
              "      width: 32px;\n",
              "    }\n",
              "\n",
              "    .colab-df-convert:hover {\n",
              "      background-color: #E2EBFA;\n",
              "      box-shadow: 0px 1px 2px rgba(60, 64, 67, 0.3), 0px 1px 3px 1px rgba(60, 64, 67, 0.15);\n",
              "      fill: #174EA6;\n",
              "    }\n",
              "\n",
              "    [theme=dark] .colab-df-convert {\n",
              "      background-color: #3B4455;\n",
              "      fill: #D2E3FC;\n",
              "    }\n",
              "\n",
              "    [theme=dark] .colab-df-convert:hover {\n",
              "      background-color: #434B5C;\n",
              "      box-shadow: 0px 1px 3px 1px rgba(0, 0, 0, 0.15);\n",
              "      filter: drop-shadow(0px 1px 2px rgba(0, 0, 0, 0.3));\n",
              "      fill: #FFFFFF;\n",
              "    }\n",
              "  </style>\n",
              "\n",
              "      <script>\n",
              "        const buttonEl =\n",
              "          document.querySelector('#df-ca420f5e-ddee-4544-a4fe-ff48584e434f button.colab-df-convert');\n",
              "        buttonEl.style.display =\n",
              "          google.colab.kernel.accessAllowed ? 'block' : 'none';\n",
              "\n",
              "        async function convertToInteractive(key) {\n",
              "          const element = document.querySelector('#df-ca420f5e-ddee-4544-a4fe-ff48584e434f');\n",
              "          const dataTable =\n",
              "            await google.colab.kernel.invokeFunction('convertToInteractive',\n",
              "                                                     [key], {});\n",
              "          if (!dataTable) return;\n",
              "\n",
              "          const docLinkHtml = 'Like what you see? Visit the ' +\n",
              "            '<a target=\"_blank\" href=https://colab.research.google.com/notebooks/data_table.ipynb>data table notebook</a>'\n",
              "            + ' to learn more about interactive tables.';\n",
              "          element.innerHTML = '';\n",
              "          dataTable['output_type'] = 'display_data';\n",
              "          await google.colab.output.renderOutput(dataTable, element);\n",
              "          const docLink = document.createElement('div');\n",
              "          docLink.innerHTML = docLinkHtml;\n",
              "          element.appendChild(docLink);\n",
              "        }\n",
              "      </script>\n",
              "    </div>\n",
              "  </div>\n",
              "  "
            ]
          },
          "metadata": {},
          "execution_count": 49
        }
      ]
    },
    {
      "cell_type": "code",
      "source": [
        "# Menghitung nilai s^2 dari X1\n",
        "X = np.array([[1, df['X2'][i], df['X1'][i]] for i in range(len(df))])\n",
        "Y = np.array(df['Y'])\n",
        "b = np.linalg.inv(X.T.dot(X)).dot(X.T).dot(Y)\n",
        "g = X.T.dot(Y)\n",
        "\n",
        "JKT = jum_Ypangkat2 - (jum_Y**2) / len(Y)\n",
        "JKR = np.sum(b * g) - (jum_Y**2) / len(Y)\n",
        "JKG = JKT - JKR\n",
        "s2 = JKG / (len(Y) - 3)\n",
        "\n",
        "print(\"s2(X1) =\", s2)\n",
        "\n",
        "# F hitung dan F tabel\n",
        "Fhitung = (JKR-Rmax[1]) / s2\n",
        "Ftabel = stats.f.isf(0.05, 1, len(Y) - 3)\n",
        "\n",
        "if Fhitung > Ftabel:\n",
        "  print('f hitung = ', Fhitung,'>', 'f tabel = ', Ftabel)\n",
        "  print('Maka peubah X1 masuk dalam model')\n",
        "else:\n",
        "  print('f hitung = ', Fhitung,'<', 'f tabel = ', Ftabel)\n",
        "  print('Maka peubah X1 tidak masuk dalam model')\n"
      ],
      "metadata": {
        "colab": {
          "base_uri": "https://localhost:8080/"
        },
        "id": "RwLT_iNhg5ff",
        "outputId": "0554232b-c023-49b8-b4ce-1dd7e5a64427"
      },
      "execution_count": null,
      "outputs": [
        {
          "output_type": "stream",
          "name": "stdout",
          "text": [
            "s2(X1) = 3.621623057851165e+23\n",
            "f hitung =  11.199127308655711 > f tabel =  3.9250756165304113\n",
            "Maka peubah X1 masuk dalam model\n"
          ]
        }
      ]
    },
    {
      "cell_type": "markdown",
      "source": [
        "### ***Step-3***"
      ],
      "metadata": {
        "id": "scayyRYd1Qs6"
      }
    },
    {
      "cell_type": "markdown",
      "source": [
        "X1 sudah diambil sebagai variabel yang termasuk model, sehingga tersisa X3, X4, X5"
      ],
      "metadata": {
        "id": "ty3KREa21pTM"
      }
    },
    {
      "cell_type": "code",
      "source": [
        "# Menghitung nilai R3max\n",
        "R3max = []\n",
        "for var in ['X3', 'X4', 'X5']:\n",
        "    X = np.array([[1, df['X2'][i], df['X1'][i], df[var][i]] for i in range(len(df))])\n",
        "    Y = np.array(df['Y'])\n",
        "    b = np.linalg.inv(X.T.dot(X)).dot(X.T).dot(Y)\n",
        "    g = X.T.dot(Y)\n",
        "\n",
        "    JKR = np.sum(b * g) - (jum_Y**2) / len(Y)\n",
        "    R3max.append(JKR - (Rmax[1] + R2max[0]))\n",
        "\n",
        "# Membuat DataFrame untuk menampilkan nilai R3max\n",
        "R3 = pd.DataFrame(R3max, index=['X3', 'X4', 'X5'], columns=['nilai R'])\n",
        "R3\n"
      ],
      "metadata": {
        "colab": {
          "base_uri": "https://localhost:8080/",
          "height": 143
        },
        "id": "R9uP4YLRhF9K",
        "outputId": "a8a58a9d-dd91-4186-dacd-a01ccce863f5"
      },
      "execution_count": null,
      "outputs": [
        {
          "output_type": "execute_result",
          "data": {
            "text/plain": [
              "         nilai R\n",
              "X3  3.172648e+24\n",
              "X4  5.571913e+23\n",
              "X5  5.638811e+23"
            ],
            "text/html": [
              "\n",
              "  <div id=\"df-f141b01b-4de0-4971-bbc0-ffb84613d54e\">\n",
              "    <div class=\"colab-df-container\">\n",
              "      <div>\n",
              "<style scoped>\n",
              "    .dataframe tbody tr th:only-of-type {\n",
              "        vertical-align: middle;\n",
              "    }\n",
              "\n",
              "    .dataframe tbody tr th {\n",
              "        vertical-align: top;\n",
              "    }\n",
              "\n",
              "    .dataframe thead th {\n",
              "        text-align: right;\n",
              "    }\n",
              "</style>\n",
              "<table border=\"1\" class=\"dataframe\">\n",
              "  <thead>\n",
              "    <tr style=\"text-align: right;\">\n",
              "      <th></th>\n",
              "      <th>nilai R</th>\n",
              "    </tr>\n",
              "  </thead>\n",
              "  <tbody>\n",
              "    <tr>\n",
              "      <th>X3</th>\n",
              "      <td>3.172648e+24</td>\n",
              "    </tr>\n",
              "    <tr>\n",
              "      <th>X4</th>\n",
              "      <td>5.571913e+23</td>\n",
              "    </tr>\n",
              "    <tr>\n",
              "      <th>X5</th>\n",
              "      <td>5.638811e+23</td>\n",
              "    </tr>\n",
              "  </tbody>\n",
              "</table>\n",
              "</div>\n",
              "      <button class=\"colab-df-convert\" onclick=\"convertToInteractive('df-f141b01b-4de0-4971-bbc0-ffb84613d54e')\"\n",
              "              title=\"Convert this dataframe to an interactive table.\"\n",
              "              style=\"display:none;\">\n",
              "        \n",
              "  <svg xmlns=\"http://www.w3.org/2000/svg\" height=\"24px\"viewBox=\"0 0 24 24\"\n",
              "       width=\"24px\">\n",
              "    <path d=\"M0 0h24v24H0V0z\" fill=\"none\"/>\n",
              "    <path d=\"M18.56 5.44l.94 2.06.94-2.06 2.06-.94-2.06-.94-.94-2.06-.94 2.06-2.06.94zm-11 1L8.5 8.5l.94-2.06 2.06-.94-2.06-.94L8.5 2.5l-.94 2.06-2.06.94zm10 10l.94 2.06.94-2.06 2.06-.94-2.06-.94-.94-2.06-.94 2.06-2.06.94z\"/><path d=\"M17.41 7.96l-1.37-1.37c-.4-.4-.92-.59-1.43-.59-.52 0-1.04.2-1.43.59L10.3 9.45l-7.72 7.72c-.78.78-.78 2.05 0 2.83L4 21.41c.39.39.9.59 1.41.59.51 0 1.02-.2 1.41-.59l7.78-7.78 2.81-2.81c.8-.78.8-2.07 0-2.86zM5.41 20L4 18.59l7.72-7.72 1.47 1.35L5.41 20z\"/>\n",
              "  </svg>\n",
              "      </button>\n",
              "      \n",
              "  <style>\n",
              "    .colab-df-container {\n",
              "      display:flex;\n",
              "      flex-wrap:wrap;\n",
              "      gap: 12px;\n",
              "    }\n",
              "\n",
              "    .colab-df-convert {\n",
              "      background-color: #E8F0FE;\n",
              "      border: none;\n",
              "      border-radius: 50%;\n",
              "      cursor: pointer;\n",
              "      display: none;\n",
              "      fill: #1967D2;\n",
              "      height: 32px;\n",
              "      padding: 0 0 0 0;\n",
              "      width: 32px;\n",
              "    }\n",
              "\n",
              "    .colab-df-convert:hover {\n",
              "      background-color: #E2EBFA;\n",
              "      box-shadow: 0px 1px 2px rgba(60, 64, 67, 0.3), 0px 1px 3px 1px rgba(60, 64, 67, 0.15);\n",
              "      fill: #174EA6;\n",
              "    }\n",
              "\n",
              "    [theme=dark] .colab-df-convert {\n",
              "      background-color: #3B4455;\n",
              "      fill: #D2E3FC;\n",
              "    }\n",
              "\n",
              "    [theme=dark] .colab-df-convert:hover {\n",
              "      background-color: #434B5C;\n",
              "      box-shadow: 0px 1px 3px 1px rgba(0, 0, 0, 0.15);\n",
              "      filter: drop-shadow(0px 1px 2px rgba(0, 0, 0, 0.3));\n",
              "      fill: #FFFFFF;\n",
              "    }\n",
              "  </style>\n",
              "\n",
              "      <script>\n",
              "        const buttonEl =\n",
              "          document.querySelector('#df-f141b01b-4de0-4971-bbc0-ffb84613d54e button.colab-df-convert');\n",
              "        buttonEl.style.display =\n",
              "          google.colab.kernel.accessAllowed ? 'block' : 'none';\n",
              "\n",
              "        async function convertToInteractive(key) {\n",
              "          const element = document.querySelector('#df-f141b01b-4de0-4971-bbc0-ffb84613d54e');\n",
              "          const dataTable =\n",
              "            await google.colab.kernel.invokeFunction('convertToInteractive',\n",
              "                                                     [key], {});\n",
              "          if (!dataTable) return;\n",
              "\n",
              "          const docLinkHtml = 'Like what you see? Visit the ' +\n",
              "            '<a target=\"_blank\" href=https://colab.research.google.com/notebooks/data_table.ipynb>data table notebook</a>'\n",
              "            + ' to learn more about interactive tables.';\n",
              "          element.innerHTML = '';\n",
              "          dataTable['output_type'] = 'display_data';\n",
              "          await google.colab.output.renderOutput(dataTable, element);\n",
              "          const docLink = document.createElement('div');\n",
              "          docLink.innerHTML = docLinkHtml;\n",
              "          element.appendChild(docLink);\n",
              "        }\n",
              "      </script>\n",
              "    </div>\n",
              "  </div>\n",
              "  "
            ]
          },
          "metadata": {},
          "execution_count": 51
        }
      ]
    },
    {
      "cell_type": "code",
      "source": [
        "R3[R3['nilai R'] == R3['nilai R'].max()]"
      ],
      "metadata": {
        "colab": {
          "base_uri": "https://localhost:8080/",
          "height": 81
        },
        "id": "LTW1vgKqhIbn",
        "outputId": "63847ef0-0723-4416-b3e8-5c6107867957"
      },
      "execution_count": null,
      "outputs": [
        {
          "output_type": "execute_result",
          "data": {
            "text/plain": [
              "         nilai R\n",
              "X3  3.172648e+24"
            ],
            "text/html": [
              "\n",
              "  <div id=\"df-ce346e0e-8afd-4960-ab15-10b7624c25ac\">\n",
              "    <div class=\"colab-df-container\">\n",
              "      <div>\n",
              "<style scoped>\n",
              "    .dataframe tbody tr th:only-of-type {\n",
              "        vertical-align: middle;\n",
              "    }\n",
              "\n",
              "    .dataframe tbody tr th {\n",
              "        vertical-align: top;\n",
              "    }\n",
              "\n",
              "    .dataframe thead th {\n",
              "        text-align: right;\n",
              "    }\n",
              "</style>\n",
              "<table border=\"1\" class=\"dataframe\">\n",
              "  <thead>\n",
              "    <tr style=\"text-align: right;\">\n",
              "      <th></th>\n",
              "      <th>nilai R</th>\n",
              "    </tr>\n",
              "  </thead>\n",
              "  <tbody>\n",
              "    <tr>\n",
              "      <th>X3</th>\n",
              "      <td>3.172648e+24</td>\n",
              "    </tr>\n",
              "  </tbody>\n",
              "</table>\n",
              "</div>\n",
              "      <button class=\"colab-df-convert\" onclick=\"convertToInteractive('df-ce346e0e-8afd-4960-ab15-10b7624c25ac')\"\n",
              "              title=\"Convert this dataframe to an interactive table.\"\n",
              "              style=\"display:none;\">\n",
              "        \n",
              "  <svg xmlns=\"http://www.w3.org/2000/svg\" height=\"24px\"viewBox=\"0 0 24 24\"\n",
              "       width=\"24px\">\n",
              "    <path d=\"M0 0h24v24H0V0z\" fill=\"none\"/>\n",
              "    <path d=\"M18.56 5.44l.94 2.06.94-2.06 2.06-.94-2.06-.94-.94-2.06-.94 2.06-2.06.94zm-11 1L8.5 8.5l.94-2.06 2.06-.94-2.06-.94L8.5 2.5l-.94 2.06-2.06.94zm10 10l.94 2.06.94-2.06 2.06-.94-2.06-.94-.94-2.06-.94 2.06-2.06.94z\"/><path d=\"M17.41 7.96l-1.37-1.37c-.4-.4-.92-.59-1.43-.59-.52 0-1.04.2-1.43.59L10.3 9.45l-7.72 7.72c-.78.78-.78 2.05 0 2.83L4 21.41c.39.39.9.59 1.41.59.51 0 1.02-.2 1.41-.59l7.78-7.78 2.81-2.81c.8-.78.8-2.07 0-2.86zM5.41 20L4 18.59l7.72-7.72 1.47 1.35L5.41 20z\"/>\n",
              "  </svg>\n",
              "      </button>\n",
              "      \n",
              "  <style>\n",
              "    .colab-df-container {\n",
              "      display:flex;\n",
              "      flex-wrap:wrap;\n",
              "      gap: 12px;\n",
              "    }\n",
              "\n",
              "    .colab-df-convert {\n",
              "      background-color: #E8F0FE;\n",
              "      border: none;\n",
              "      border-radius: 50%;\n",
              "      cursor: pointer;\n",
              "      display: none;\n",
              "      fill: #1967D2;\n",
              "      height: 32px;\n",
              "      padding: 0 0 0 0;\n",
              "      width: 32px;\n",
              "    }\n",
              "\n",
              "    .colab-df-convert:hover {\n",
              "      background-color: #E2EBFA;\n",
              "      box-shadow: 0px 1px 2px rgba(60, 64, 67, 0.3), 0px 1px 3px 1px rgba(60, 64, 67, 0.15);\n",
              "      fill: #174EA6;\n",
              "    }\n",
              "\n",
              "    [theme=dark] .colab-df-convert {\n",
              "      background-color: #3B4455;\n",
              "      fill: #D2E3FC;\n",
              "    }\n",
              "\n",
              "    [theme=dark] .colab-df-convert:hover {\n",
              "      background-color: #434B5C;\n",
              "      box-shadow: 0px 1px 3px 1px rgba(0, 0, 0, 0.15);\n",
              "      filter: drop-shadow(0px 1px 2px rgba(0, 0, 0, 0.3));\n",
              "      fill: #FFFFFF;\n",
              "    }\n",
              "  </style>\n",
              "\n",
              "      <script>\n",
              "        const buttonEl =\n",
              "          document.querySelector('#df-ce346e0e-8afd-4960-ab15-10b7624c25ac button.colab-df-convert');\n",
              "        buttonEl.style.display =\n",
              "          google.colab.kernel.accessAllowed ? 'block' : 'none';\n",
              "\n",
              "        async function convertToInteractive(key) {\n",
              "          const element = document.querySelector('#df-ce346e0e-8afd-4960-ab15-10b7624c25ac');\n",
              "          const dataTable =\n",
              "            await google.colab.kernel.invokeFunction('convertToInteractive',\n",
              "                                                     [key], {});\n",
              "          if (!dataTable) return;\n",
              "\n",
              "          const docLinkHtml = 'Like what you see? Visit the ' +\n",
              "            '<a target=\"_blank\" href=https://colab.research.google.com/notebooks/data_table.ipynb>data table notebook</a>'\n",
              "            + ' to learn more about interactive tables.';\n",
              "          element.innerHTML = '';\n",
              "          dataTable['output_type'] = 'display_data';\n",
              "          await google.colab.output.renderOutput(dataTable, element);\n",
              "          const docLink = document.createElement('div');\n",
              "          docLink.innerHTML = docLinkHtml;\n",
              "          element.appendChild(docLink);\n",
              "        }\n",
              "      </script>\n",
              "    </div>\n",
              "  </div>\n",
              "  "
            ]
          },
          "metadata": {},
          "execution_count": 52
        }
      ]
    },
    {
      "cell_type": "code",
      "source": [
        "# Menghitung nilai s^2 dari X1.2 dan X3\n",
        "X = np.array([[1, df['X2'][i], df['X1'][i], df['X3'][i]] for i in range(len(df))])\n",
        "Y = np.array(df['Y'])\n",
        "b = np.linalg.inv(X.T.dot(X)).dot(X.T).dot(Y)\n",
        "g = X.T.dot(Y)\n",
        "\n",
        "JKT = jum_Ypangkat2 - (jum_Y**2) / len(Y)\n",
        "JKR = np.sum(b * g) - (jum_Y**2) / len(Y)\n",
        "JKG = JKT - JKR\n",
        "s2 = JKG / (len(Y) - 4)\n",
        "\n",
        "print(\"s^2(X3) =\",s2)\n",
        "\n",
        "# F hitung dan F tabel\n",
        "Fhitung = (JKR - (Rmax[1] + R2max[0])) / s2\n",
        "Ftabel = stats.f.isf(0.05, 1, len(Y) - 4)\n",
        "\n",
        "if Fhitung > Ftabel:\n",
        "  print('f hitung = ', Fhitung,'>', 'f tabel = ', Ftabel)\n",
        "  print('Maka peubah X3 masuk dalam model')\n",
        "else:\n",
        "  print('f hitung = ', Fhitung,'<', 'f tabel = ', Ftabel)\n",
        "  print('Maka peubah X3 tidak masuk dalam model')\n"
      ],
      "metadata": {
        "colab": {
          "base_uri": "https://localhost:8080/"
        },
        "id": "pg6jFGHMhK8h",
        "outputId": "98d8769a-a64a-48f9-f86b-68867ae265c9"
      },
      "execution_count": null,
      "outputs": [
        {
          "output_type": "stream",
          "name": "stdout",
          "text": [
            "s^2(X3) = 3.370686819720839e+23\n",
            "f hitung =  9.412467970274154 > f tabel =  3.9258342687862307\n",
            "Maka peubah X3 masuk dalam model\n"
          ]
        }
      ]
    },
    {
      "cell_type": "markdown",
      "source": [
        "### ***Step-4***"
      ],
      "metadata": {
        "id": "GQYkZXQ-1ydm"
      }
    },
    {
      "cell_type": "markdown",
      "source": [
        "X3 sudah diambil sebagai variabel yang termasuk model, sehingga tersisa X4, X5"
      ],
      "metadata": {
        "id": "0CF7E3yb115l"
      }
    },
    {
      "cell_type": "code",
      "source": [
        "# Menghitung nilai R4max\n",
        "R4max = []\n",
        "for var in ['X4', 'X5']:\n",
        "    X = np.array([[1, df['X2'][i], df['X1'][i], df[var][i], df['X3'][i]] for i in range(len(df))])\n",
        "    Y = np.array(df['Y'])\n",
        "    b = np.linalg.inv(X.T.dot(X)).dot(X.T).dot(Y)\n",
        "    g = X.T.dot(Y)\n",
        "\n",
        "    JKR = np.sum(b * g) - (jum_Y**2) / len(Y)\n",
        "    R4max.append(JKR - (Rmax[1] + R2max[0] + R3max[0]))\n",
        "\n",
        "# Membuat DataFrame untuk menampilkan nilai R4max\n",
        "R4 = pd.DataFrame(R4max, index=['X4', 'X5'], columns=['nilai R'])\n",
        "R4\n"
      ],
      "metadata": {
        "colab": {
          "base_uri": "https://localhost:8080/",
          "height": 112
        },
        "id": "6XWr2yInhfFS",
        "outputId": "c7ce939f-3c88-4386-b00c-03b8342a23ba"
      },
      "execution_count": null,
      "outputs": [
        {
          "output_type": "execute_result",
          "data": {
            "text/plain": [
              "         nilai R\n",
              "X4  6.409456e+23\n",
              "X5  4.056220e+23"
            ],
            "text/html": [
              "\n",
              "  <div id=\"df-ef64d69d-8196-40e8-8322-1024e6168e18\">\n",
              "    <div class=\"colab-df-container\">\n",
              "      <div>\n",
              "<style scoped>\n",
              "    .dataframe tbody tr th:only-of-type {\n",
              "        vertical-align: middle;\n",
              "    }\n",
              "\n",
              "    .dataframe tbody tr th {\n",
              "        vertical-align: top;\n",
              "    }\n",
              "\n",
              "    .dataframe thead th {\n",
              "        text-align: right;\n",
              "    }\n",
              "</style>\n",
              "<table border=\"1\" class=\"dataframe\">\n",
              "  <thead>\n",
              "    <tr style=\"text-align: right;\">\n",
              "      <th></th>\n",
              "      <th>nilai R</th>\n",
              "    </tr>\n",
              "  </thead>\n",
              "  <tbody>\n",
              "    <tr>\n",
              "      <th>X4</th>\n",
              "      <td>6.409456e+23</td>\n",
              "    </tr>\n",
              "    <tr>\n",
              "      <th>X5</th>\n",
              "      <td>4.056220e+23</td>\n",
              "    </tr>\n",
              "  </tbody>\n",
              "</table>\n",
              "</div>\n",
              "      <button class=\"colab-df-convert\" onclick=\"convertToInteractive('df-ef64d69d-8196-40e8-8322-1024e6168e18')\"\n",
              "              title=\"Convert this dataframe to an interactive table.\"\n",
              "              style=\"display:none;\">\n",
              "        \n",
              "  <svg xmlns=\"http://www.w3.org/2000/svg\" height=\"24px\"viewBox=\"0 0 24 24\"\n",
              "       width=\"24px\">\n",
              "    <path d=\"M0 0h24v24H0V0z\" fill=\"none\"/>\n",
              "    <path d=\"M18.56 5.44l.94 2.06.94-2.06 2.06-.94-2.06-.94-.94-2.06-.94 2.06-2.06.94zm-11 1L8.5 8.5l.94-2.06 2.06-.94-2.06-.94L8.5 2.5l-.94 2.06-2.06.94zm10 10l.94 2.06.94-2.06 2.06-.94-2.06-.94-.94-2.06-.94 2.06-2.06.94z\"/><path d=\"M17.41 7.96l-1.37-1.37c-.4-.4-.92-.59-1.43-.59-.52 0-1.04.2-1.43.59L10.3 9.45l-7.72 7.72c-.78.78-.78 2.05 0 2.83L4 21.41c.39.39.9.59 1.41.59.51 0 1.02-.2 1.41-.59l7.78-7.78 2.81-2.81c.8-.78.8-2.07 0-2.86zM5.41 20L4 18.59l7.72-7.72 1.47 1.35L5.41 20z\"/>\n",
              "  </svg>\n",
              "      </button>\n",
              "      \n",
              "  <style>\n",
              "    .colab-df-container {\n",
              "      display:flex;\n",
              "      flex-wrap:wrap;\n",
              "      gap: 12px;\n",
              "    }\n",
              "\n",
              "    .colab-df-convert {\n",
              "      background-color: #E8F0FE;\n",
              "      border: none;\n",
              "      border-radius: 50%;\n",
              "      cursor: pointer;\n",
              "      display: none;\n",
              "      fill: #1967D2;\n",
              "      height: 32px;\n",
              "      padding: 0 0 0 0;\n",
              "      width: 32px;\n",
              "    }\n",
              "\n",
              "    .colab-df-convert:hover {\n",
              "      background-color: #E2EBFA;\n",
              "      box-shadow: 0px 1px 2px rgba(60, 64, 67, 0.3), 0px 1px 3px 1px rgba(60, 64, 67, 0.15);\n",
              "      fill: #174EA6;\n",
              "    }\n",
              "\n",
              "    [theme=dark] .colab-df-convert {\n",
              "      background-color: #3B4455;\n",
              "      fill: #D2E3FC;\n",
              "    }\n",
              "\n",
              "    [theme=dark] .colab-df-convert:hover {\n",
              "      background-color: #434B5C;\n",
              "      box-shadow: 0px 1px 3px 1px rgba(0, 0, 0, 0.15);\n",
              "      filter: drop-shadow(0px 1px 2px rgba(0, 0, 0, 0.3));\n",
              "      fill: #FFFFFF;\n",
              "    }\n",
              "  </style>\n",
              "\n",
              "      <script>\n",
              "        const buttonEl =\n",
              "          document.querySelector('#df-ef64d69d-8196-40e8-8322-1024e6168e18 button.colab-df-convert');\n",
              "        buttonEl.style.display =\n",
              "          google.colab.kernel.accessAllowed ? 'block' : 'none';\n",
              "\n",
              "        async function convertToInteractive(key) {\n",
              "          const element = document.querySelector('#df-ef64d69d-8196-40e8-8322-1024e6168e18');\n",
              "          const dataTable =\n",
              "            await google.colab.kernel.invokeFunction('convertToInteractive',\n",
              "                                                     [key], {});\n",
              "          if (!dataTable) return;\n",
              "\n",
              "          const docLinkHtml = 'Like what you see? Visit the ' +\n",
              "            '<a target=\"_blank\" href=https://colab.research.google.com/notebooks/data_table.ipynb>data table notebook</a>'\n",
              "            + ' to learn more about interactive tables.';\n",
              "          element.innerHTML = '';\n",
              "          dataTable['output_type'] = 'display_data';\n",
              "          await google.colab.output.renderOutput(dataTable, element);\n",
              "          const docLink = document.createElement('div');\n",
              "          docLink.innerHTML = docLinkHtml;\n",
              "          element.appendChild(docLink);\n",
              "        }\n",
              "      </script>\n",
              "    </div>\n",
              "  </div>\n",
              "  "
            ]
          },
          "metadata": {},
          "execution_count": 54
        }
      ]
    },
    {
      "cell_type": "code",
      "source": [
        "R4[R4['nilai R'] == R4['nilai R'].max()]"
      ],
      "metadata": {
        "colab": {
          "base_uri": "https://localhost:8080/",
          "height": 81
        },
        "id": "t9IaNnSkhonl",
        "outputId": "fa78e537-8eb5-4f08-f8a4-4b5912b4225b"
      },
      "execution_count": null,
      "outputs": [
        {
          "output_type": "execute_result",
          "data": {
            "text/plain": [
              "         nilai R\n",
              "X4  6.409456e+23"
            ],
            "text/html": [
              "\n",
              "  <div id=\"df-e93c5daa-1559-4330-903f-4be8d18c8af7\">\n",
              "    <div class=\"colab-df-container\">\n",
              "      <div>\n",
              "<style scoped>\n",
              "    .dataframe tbody tr th:only-of-type {\n",
              "        vertical-align: middle;\n",
              "    }\n",
              "\n",
              "    .dataframe tbody tr th {\n",
              "        vertical-align: top;\n",
              "    }\n",
              "\n",
              "    .dataframe thead th {\n",
              "        text-align: right;\n",
              "    }\n",
              "</style>\n",
              "<table border=\"1\" class=\"dataframe\">\n",
              "  <thead>\n",
              "    <tr style=\"text-align: right;\">\n",
              "      <th></th>\n",
              "      <th>nilai R</th>\n",
              "    </tr>\n",
              "  </thead>\n",
              "  <tbody>\n",
              "    <tr>\n",
              "      <th>X4</th>\n",
              "      <td>6.409456e+23</td>\n",
              "    </tr>\n",
              "  </tbody>\n",
              "</table>\n",
              "</div>\n",
              "      <button class=\"colab-df-convert\" onclick=\"convertToInteractive('df-e93c5daa-1559-4330-903f-4be8d18c8af7')\"\n",
              "              title=\"Convert this dataframe to an interactive table.\"\n",
              "              style=\"display:none;\">\n",
              "        \n",
              "  <svg xmlns=\"http://www.w3.org/2000/svg\" height=\"24px\"viewBox=\"0 0 24 24\"\n",
              "       width=\"24px\">\n",
              "    <path d=\"M0 0h24v24H0V0z\" fill=\"none\"/>\n",
              "    <path d=\"M18.56 5.44l.94 2.06.94-2.06 2.06-.94-2.06-.94-.94-2.06-.94 2.06-2.06.94zm-11 1L8.5 8.5l.94-2.06 2.06-.94-2.06-.94L8.5 2.5l-.94 2.06-2.06.94zm10 10l.94 2.06.94-2.06 2.06-.94-2.06-.94-.94-2.06-.94 2.06-2.06.94z\"/><path d=\"M17.41 7.96l-1.37-1.37c-.4-.4-.92-.59-1.43-.59-.52 0-1.04.2-1.43.59L10.3 9.45l-7.72 7.72c-.78.78-.78 2.05 0 2.83L4 21.41c.39.39.9.59 1.41.59.51 0 1.02-.2 1.41-.59l7.78-7.78 2.81-2.81c.8-.78.8-2.07 0-2.86zM5.41 20L4 18.59l7.72-7.72 1.47 1.35L5.41 20z\"/>\n",
              "  </svg>\n",
              "      </button>\n",
              "      \n",
              "  <style>\n",
              "    .colab-df-container {\n",
              "      display:flex;\n",
              "      flex-wrap:wrap;\n",
              "      gap: 12px;\n",
              "    }\n",
              "\n",
              "    .colab-df-convert {\n",
              "      background-color: #E8F0FE;\n",
              "      border: none;\n",
              "      border-radius: 50%;\n",
              "      cursor: pointer;\n",
              "      display: none;\n",
              "      fill: #1967D2;\n",
              "      height: 32px;\n",
              "      padding: 0 0 0 0;\n",
              "      width: 32px;\n",
              "    }\n",
              "\n",
              "    .colab-df-convert:hover {\n",
              "      background-color: #E2EBFA;\n",
              "      box-shadow: 0px 1px 2px rgba(60, 64, 67, 0.3), 0px 1px 3px 1px rgba(60, 64, 67, 0.15);\n",
              "      fill: #174EA6;\n",
              "    }\n",
              "\n",
              "    [theme=dark] .colab-df-convert {\n",
              "      background-color: #3B4455;\n",
              "      fill: #D2E3FC;\n",
              "    }\n",
              "\n",
              "    [theme=dark] .colab-df-convert:hover {\n",
              "      background-color: #434B5C;\n",
              "      box-shadow: 0px 1px 3px 1px rgba(0, 0, 0, 0.15);\n",
              "      filter: drop-shadow(0px 1px 2px rgba(0, 0, 0, 0.3));\n",
              "      fill: #FFFFFF;\n",
              "    }\n",
              "  </style>\n",
              "\n",
              "      <script>\n",
              "        const buttonEl =\n",
              "          document.querySelector('#df-e93c5daa-1559-4330-903f-4be8d18c8af7 button.colab-df-convert');\n",
              "        buttonEl.style.display =\n",
              "          google.colab.kernel.accessAllowed ? 'block' : 'none';\n",
              "\n",
              "        async function convertToInteractive(key) {\n",
              "          const element = document.querySelector('#df-e93c5daa-1559-4330-903f-4be8d18c8af7');\n",
              "          const dataTable =\n",
              "            await google.colab.kernel.invokeFunction('convertToInteractive',\n",
              "                                                     [key], {});\n",
              "          if (!dataTable) return;\n",
              "\n",
              "          const docLinkHtml = 'Like what you see? Visit the ' +\n",
              "            '<a target=\"_blank\" href=https://colab.research.google.com/notebooks/data_table.ipynb>data table notebook</a>'\n",
              "            + ' to learn more about interactive tables.';\n",
              "          element.innerHTML = '';\n",
              "          dataTable['output_type'] = 'display_data';\n",
              "          await google.colab.output.renderOutput(dataTable, element);\n",
              "          const docLink = document.createElement('div');\n",
              "          docLink.innerHTML = docLinkHtml;\n",
              "          element.appendChild(docLink);\n",
              "        }\n",
              "      </script>\n",
              "    </div>\n",
              "  </div>\n",
              "  "
            ]
          },
          "metadata": {},
          "execution_count": 55
        }
      ]
    },
    {
      "cell_type": "code",
      "source": [
        "# Menghitung nilai s^2 dari X1.2, X3, X4\n",
        "X = np.array([[1, df['X2'][i], df['X1'][i], df['X3'][i], df['X4'][i]] for i in range(len(df))])\n",
        "Y = np.array(df['Y'])\n",
        "b = np.linalg.inv(X.T.dot(X)).dot(X.T).dot(Y)\n",
        "g = X.T.dot(Y)\n",
        "\n",
        "JKT = jum_Ypangkat2 - (jum_Y**2) / len(Y)\n",
        "JKR = np.sum(b * g) - (jum_Y**2) / len(Y)\n",
        "JKG = JKT - JKR\n",
        "s2 = JKG / (len(Y) - 5)\n",
        "\n",
        "print(\"s^2(X4) =\", s2)\n",
        "\n",
        "# F hitung dan F tabel\n",
        "Fhitung = (JKR - (Rmax[1] + R2max[0]+ R3max[0])) / s2\n",
        "Ftabel = stats.f.isf(0.05, 1, len(Y) - 5)\n",
        "\n",
        "if Fhitung > Ftabel:\n",
        "  print('f hitung = ', Fhitung,'>', 'f tabel = ', Ftabel)\n",
        "  print('Maka peubah X4 masuk dalam model')\n",
        "else:\n",
        "  print('f hitung = ', Fhitung,'<', 'f tabel = ', Ftabel)\n",
        "  print('Maka peubah X4 tidak masuk dalam model')\n"
      ],
      "metadata": {
        "colab": {
          "base_uri": "https://localhost:8080/"
        },
        "id": "ezU8RzC2hr51",
        "outputId": "72de754d-5a8b-422e-e98b-d297450ac770"
      },
      "execution_count": null,
      "outputs": [
        {
          "output_type": "stream",
          "name": "stdout",
          "text": [
            "s^2(X4) = 3.343310517309668e+23\n",
            "f hitung =  1.9170987421528867 < f tabel =  3.926606812744345\n",
            "Maka peubah X4 tidak masuk dalam model\n"
          ]
        }
      ]
    },
    {
      "cell_type": "code",
      "source": [
        "# Menghitung nilai s^2 dari X1, X2, X3, dan X5\n",
        "X = np.array([[1, df['X1'][i], df['X2'][i], df['X3'][i], df['X5'][i]] for i in range(len(df))])\n",
        "Y = np.array(df['Y'])\n",
        "b = np.linalg.inv(X.T.dot(X)).dot(X.T).dot(Y)\n",
        "g = X.T.dot(Y)\n",
        "\n",
        "JKT = jum_Ypangkat2 - (jum_Y**2) / len(Y)\n",
        "JKR = np.sum(b * g) - (jum_Y**2) / len(Y)\n",
        "JKG = JKT - JKR\n",
        "s2 = JKG / (len(Y) - 5)\n",
        "\n",
        "print(\"s^2(X5) =\", s2)\n",
        "\n",
        "# F hitung dan F tabel\n",
        "Fhitung = (JKR - (Rmax[1] + R2max[0]+ R3max[0])) / s2\n",
        "Ftabel = stats.f.isf(0.05, 1, len(Y) - 5)\n",
        "\n",
        "if Fhitung > Ftabel:\n",
        "  print('f hitung = ', Fhitung,'>', 'f tabel = ', Ftabel)\n",
        "  print('Maka peubah X5 masuk dalam model')\n",
        "else:\n",
        "  print('f hitung = ', Fhitung,'<', 'f tabel = ', Ftabel)\n",
        "  print('Maka peubah X5 tidak masuk dalam model')\n"
      ],
      "metadata": {
        "colab": {
          "base_uri": "https://localhost:8080/"
        },
        "id": "xhktTqGIhyOu",
        "outputId": "684aac40-3461-44d2-ffa9-2f2f28db53d8"
      },
      "execution_count": null,
      "outputs": [
        {
          "output_type": "stream",
          "name": "stdout",
          "text": [
            "s^2(X5) = 3.364510845395284e+23\n",
            "f hitung =  1.2055898037626755 < f tabel =  3.926606812744345\n",
            "Maka peubah X5 tidak masuk dalam model\n"
          ]
        }
      ]
    },
    {
      "cell_type": "code",
      "source": [
        "# Mencari nilai b\n",
        "X = np.array([[1, df['X2'][i], df['X1'][i], df['X3'][i]] for i in range(len(df))])\n",
        "Y = np.array(df['Y'])\n",
        "b = np.linalg.inv(X.T.dot(X)).dot(X.T).dot(Y)\n",
        "\n",
        "# Konversi ke dataframe\n",
        "df_b = pd.DataFrame(b, index=['b0', 'b1', 'b2', 'b3'], columns=['Nilai Koefisien'])\n",
        "df_b\n",
        "\n"
      ],
      "metadata": {
        "colab": {
          "base_uri": "https://localhost:8080/",
          "height": 175
        },
        "id": "vEhMq1Gch29i",
        "outputId": "31190c96-acfb-46b2-b730-b5188514e0d7"
      },
      "execution_count": null,
      "outputs": [
        {
          "output_type": "execute_result",
          "data": {
            "text/plain": [
              "    Nilai Koefisien\n",
              "b0    -1.405600e+11\n",
              "b1     9.585488e+00\n",
              "b2    -3.503946e+00\n",
              "b3     4.009617e+09"
            ],
            "text/html": [
              "\n",
              "  <div id=\"df-574e5c14-7a9f-46ea-a107-85115db40187\">\n",
              "    <div class=\"colab-df-container\">\n",
              "      <div>\n",
              "<style scoped>\n",
              "    .dataframe tbody tr th:only-of-type {\n",
              "        vertical-align: middle;\n",
              "    }\n",
              "\n",
              "    .dataframe tbody tr th {\n",
              "        vertical-align: top;\n",
              "    }\n",
              "\n",
              "    .dataframe thead th {\n",
              "        text-align: right;\n",
              "    }\n",
              "</style>\n",
              "<table border=\"1\" class=\"dataframe\">\n",
              "  <thead>\n",
              "    <tr style=\"text-align: right;\">\n",
              "      <th></th>\n",
              "      <th>Nilai Koefisien</th>\n",
              "    </tr>\n",
              "  </thead>\n",
              "  <tbody>\n",
              "    <tr>\n",
              "      <th>b0</th>\n",
              "      <td>-1.405600e+11</td>\n",
              "    </tr>\n",
              "    <tr>\n",
              "      <th>b1</th>\n",
              "      <td>9.585488e+00</td>\n",
              "    </tr>\n",
              "    <tr>\n",
              "      <th>b2</th>\n",
              "      <td>-3.503946e+00</td>\n",
              "    </tr>\n",
              "    <tr>\n",
              "      <th>b3</th>\n",
              "      <td>4.009617e+09</td>\n",
              "    </tr>\n",
              "  </tbody>\n",
              "</table>\n",
              "</div>\n",
              "      <button class=\"colab-df-convert\" onclick=\"convertToInteractive('df-574e5c14-7a9f-46ea-a107-85115db40187')\"\n",
              "              title=\"Convert this dataframe to an interactive table.\"\n",
              "              style=\"display:none;\">\n",
              "        \n",
              "  <svg xmlns=\"http://www.w3.org/2000/svg\" height=\"24px\"viewBox=\"0 0 24 24\"\n",
              "       width=\"24px\">\n",
              "    <path d=\"M0 0h24v24H0V0z\" fill=\"none\"/>\n",
              "    <path d=\"M18.56 5.44l.94 2.06.94-2.06 2.06-.94-2.06-.94-.94-2.06-.94 2.06-2.06.94zm-11 1L8.5 8.5l.94-2.06 2.06-.94-2.06-.94L8.5 2.5l-.94 2.06-2.06.94zm10 10l.94 2.06.94-2.06 2.06-.94-2.06-.94-.94-2.06-.94 2.06-2.06.94z\"/><path d=\"M17.41 7.96l-1.37-1.37c-.4-.4-.92-.59-1.43-.59-.52 0-1.04.2-1.43.59L10.3 9.45l-7.72 7.72c-.78.78-.78 2.05 0 2.83L4 21.41c.39.39.9.59 1.41.59.51 0 1.02-.2 1.41-.59l7.78-7.78 2.81-2.81c.8-.78.8-2.07 0-2.86zM5.41 20L4 18.59l7.72-7.72 1.47 1.35L5.41 20z\"/>\n",
              "  </svg>\n",
              "      </button>\n",
              "      \n",
              "  <style>\n",
              "    .colab-df-container {\n",
              "      display:flex;\n",
              "      flex-wrap:wrap;\n",
              "      gap: 12px;\n",
              "    }\n",
              "\n",
              "    .colab-df-convert {\n",
              "      background-color: #E8F0FE;\n",
              "      border: none;\n",
              "      border-radius: 50%;\n",
              "      cursor: pointer;\n",
              "      display: none;\n",
              "      fill: #1967D2;\n",
              "      height: 32px;\n",
              "      padding: 0 0 0 0;\n",
              "      width: 32px;\n",
              "    }\n",
              "\n",
              "    .colab-df-convert:hover {\n",
              "      background-color: #E2EBFA;\n",
              "      box-shadow: 0px 1px 2px rgba(60, 64, 67, 0.3), 0px 1px 3px 1px rgba(60, 64, 67, 0.15);\n",
              "      fill: #174EA6;\n",
              "    }\n",
              "\n",
              "    [theme=dark] .colab-df-convert {\n",
              "      background-color: #3B4455;\n",
              "      fill: #D2E3FC;\n",
              "    }\n",
              "\n",
              "    [theme=dark] .colab-df-convert:hover {\n",
              "      background-color: #434B5C;\n",
              "      box-shadow: 0px 1px 3px 1px rgba(0, 0, 0, 0.15);\n",
              "      filter: drop-shadow(0px 1px 2px rgba(0, 0, 0, 0.3));\n",
              "      fill: #FFFFFF;\n",
              "    }\n",
              "  </style>\n",
              "\n",
              "      <script>\n",
              "        const buttonEl =\n",
              "          document.querySelector('#df-574e5c14-7a9f-46ea-a107-85115db40187 button.colab-df-convert');\n",
              "        buttonEl.style.display =\n",
              "          google.colab.kernel.accessAllowed ? 'block' : 'none';\n",
              "\n",
              "        async function convertToInteractive(key) {\n",
              "          const element = document.querySelector('#df-574e5c14-7a9f-46ea-a107-85115db40187');\n",
              "          const dataTable =\n",
              "            await google.colab.kernel.invokeFunction('convertToInteractive',\n",
              "                                                     [key], {});\n",
              "          if (!dataTable) return;\n",
              "\n",
              "          const docLinkHtml = 'Like what you see? Visit the ' +\n",
              "            '<a target=\"_blank\" href=https://colab.research.google.com/notebooks/data_table.ipynb>data table notebook</a>'\n",
              "            + ' to learn more about interactive tables.';\n",
              "          element.innerHTML = '';\n",
              "          dataTable['output_type'] = 'display_data';\n",
              "          await google.colab.output.renderOutput(dataTable, element);\n",
              "          const docLink = document.createElement('div');\n",
              "          docLink.innerHTML = docLinkHtml;\n",
              "          element.appendChild(docLink);\n",
              "        }\n",
              "      </script>\n",
              "    </div>\n",
              "  </div>\n",
              "  "
            ]
          },
          "metadata": {},
          "execution_count": 58
        }
      ]
    },
    {
      "cell_type": "markdown",
      "source": [
        "### ***SPL regresi bertahap***"
      ],
      "metadata": {
        "id": "zJqzKFvIGiwh"
      }
    },
    {
      "cell_type": "code",
      "source": [
        "b0 = b[0]\n",
        "b1 = b[1]\n",
        "b2 = b[2]\n",
        "b3 = b[3]\n",
        "\n",
        "print(\"SPL : Y =\", b0, \" + \" , b1,\"X1 + \",b2,\"X2 + \",b3,\"X3\")"
      ],
      "metadata": {
        "colab": {
          "base_uri": "https://localhost:8080/"
        },
        "id": "8F4k548nFwyN",
        "outputId": "73110b80-1d06-4669-d5e2-10e618c86b4e"
      },
      "execution_count": null,
      "outputs": [
        {
          "output_type": "stream",
          "name": "stdout",
          "text": [
            "SPL : Y = -140560004547.3942  +  9.585487627972567 X1 +  -3.5039457618365573 X2 +  4009617126.683123 X3\n"
          ]
        }
      ]
    },
    {
      "cell_type": "markdown",
      "source": [
        "### ***Koefisien Determinasi berganda(R^2)***"
      ],
      "metadata": {
        "id": "oVEI-9e83kJ6"
      }
    },
    {
      "cell_type": "code",
      "source": [
        "\n",
        "# Menghitung JKT\n",
        "JKT = jum_Ypangkat2 - (jum_Y**2) / len(Y)\n",
        "\n",
        "# Menghitung JKR\n",
        "JKR = 0\n",
        "for i in range(len(df_b)):\n",
        "    JKR += b[i] * g[i]  # g = X.T.dot(Y)\n",
        "JKR = JKR - (jum_Y**2) / len(Y)\n",
        "\n",
        "# Menghitung R2\n",
        "R2y2 = JKR / JKT\n",
        "R2y2\n",
        "\n",
        "\n"
      ],
      "metadata": {
        "colab": {
          "base_uri": "https://localhost:8080/"
        },
        "id": "hJ93yhcTh7qj",
        "outputId": "157fa57e-4a7d-4f65-b0fb-5dde9b856052"
      },
      "execution_count": null,
      "outputs": [
        {
          "output_type": "execute_result",
          "data": {
            "text/plain": [
              "0.41776043910912597"
            ]
          },
          "metadata": {},
          "execution_count": 60
        }
      ]
    },
    {
      "cell_type": "markdown",
      "source": [
        "# **Kesimpulan**"
      ],
      "metadata": {
        "id": "3jJAiVLe2ty8"
      }
    },
    {
      "cell_type": "markdown",
      "source": [
        "Dalam program ini kami membuat analisis regresi berganda menggunakan metode regresi bertahap, bersumber dari dataset factbook.csv. hasil analisis yang kami dapat diantaranya :\n",
        "\n",
        "1. SPL : Y = -140560004547.3942  +  9.585487627972567 X1 +  -3.5039457618365573 X2 +  4009617126.683123 X3 (regresi bertahap)\n",
        "2. koefisien determinasi untuk metode regresi bertahap = 0.41776043910912597\n",
        "3. Variabel yang memiliki hubungan yang signifikan : X1(Exports), X2 (Imports), X3(Industrial production growth rate).\n",
        "\n",
        "\n",
        "\n",
        "\n"
      ],
      "metadata": {
        "id": "jixY7-tK95QQ"
      }
    }
  ]
}